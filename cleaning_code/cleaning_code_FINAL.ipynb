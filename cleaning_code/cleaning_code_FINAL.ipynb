{
 "cells": [
  {
   "cell_type": "markdown",
   "metadata": {},
   "source": [
    "## IMPORTS"
   ]
  },
  {
   "cell_type": "code",
   "execution_count": 6,
   "metadata": {},
   "outputs": [
    {
     "name": "stdout",
     "output_type": "stream",
     "text": [
      "13.3.0\n"
     ]
    }
   ],
   "source": [
    "import numpy as np\n",
    "import cupy as cp\n",
    "print(cp.__version__)\n",
    "import tifffile as tiff\n",
    "from skimage.morphology import skeletonize  # Import for skeletonization\n",
    "from skan import Skeleton, summarize\n",
    "from joblib import Parallel, delayed\n",
    "import sys\n",
    "from ltedt import local_thickness\n",
    "\n",
    "from cleaning_functions.cleaning_functions import neighbors, is_junction_point, remove_branches, print_branches\n"
   ]
  },
  {
   "cell_type": "markdown",
   "metadata": {},
   "source": [
    "## BOTTOM PART SKELETON - GROUND TRUTH"
   ]
  },
  {
   "cell_type": "code",
   "execution_count": 12,
   "metadata": {},
   "outputs": [
    {
     "name": "stdout",
     "output_type": "stream",
     "text": [
      "Max distance in thickness map: 6\n",
      "Number of branch type 0: 14\n",
      "Number of branch type 1: 29\n",
      "Number of branch type 2: 14\n",
      "Number of branch type 3: 0\n"
     ]
    },
    {
     "name": "stderr",
     "output_type": "stream",
     "text": [
      "/tmp/ipykernel_1557849/2137126620.py:16: VisibleDeprecationWarning: separator in column name will change to _ in version 0.13; to silence this warning, use `separator='-'` to maintain current behavior and use `separator='_'` to switch to the new default behavior.\n",
      "  principal_branch_data = summarize(principal_skel)\n",
      "/zhome/57/0/203104/specialCourse_fall24/cleaning_functions/cleaning_functions.py:91: VisibleDeprecationWarning: separator in column name will change to _ in version 0.13; to silence this warning, use `separator='-'` to maintain current behavior and use `separator='_'` to switch to the new default behavior.\n",
      "  branch_data = summarize(skel)\n"
     ]
    }
   ],
   "source": [
    "bottom_part_gt = tiff.imread('/zhome/57/0/203104/specialCourse_fall24/outputs/output_volume_smaller_BOTTOM.tif')\n",
    "\n",
    "skeleton = skeletonize(bottom_part_gt)\n",
    "\n",
    "skeleton_bottom_part_gt = np.where(skeleton == True, 1, 0)\n",
    "skeleton_bottom_part_gt = skeleton_bottom_part_gt.astype(np.uint8)\n",
    "\n",
    "thickness = local_thickness(bottom_part_gt, implementation=\"cupy\")\n",
    "\n",
    "thickness_map = thickness*skeleton_bottom_part_gt\n",
    "\n",
    "max_distance = np.max(thickness_map[thickness_map > 0])\n",
    "print(f\"Max distance in thickness map: {max_distance}\")\n",
    "\n",
    "principal_skel = Skeleton(skeleton_bottom_part_gt)\n",
    "principal_branch_data = summarize(principal_skel)\n",
    "\n",
    "skeleleton_clean_x40_th4 = remove_branches(skeleton=skeleton_bottom_part_gt, \n",
    "                                           branch_data=principal_branch_data, \n",
    "                                           skel=principal_skel, \n",
    "                                           thickness_map=thickness_map, \n",
    "                                           length_threshold=40, \n",
    "                                           thickness_threshold=4)\n",
    "\n",
    "skeleleton_clean_x20_th5 = remove_branches(skeleton=skeleleton_clean_x40_th4, \n",
    "                                           branch_data=principal_branch_data, \n",
    "                                           skel=principal_skel, \n",
    "                                           thickness_map=thickness_map, \n",
    "                                           length_threshold=20, \n",
    "                                           thickness_threshold=5)\n",
    "print_branches(skeleleton_clean_x20_th5)\n",
    "\n",
    "output_path_cleaned = '/zhome/57/0/203104/specialCourse_fall24/outputs/skeleleton_clean_x20_th5_BOTTOM.tif'\n",
    "tiff.imwrite(output_path_cleaned, skeleleton_clean_x20_th5)"
   ]
  },
  {
   "cell_type": "markdown",
   "metadata": {},
   "source": [
    "## BOTTOM PART SKELETON - UNET"
   ]
  },
  {
   "cell_type": "code",
   "execution_count": 13,
   "metadata": {},
   "outputs": [
    {
     "name": "stdout",
     "output_type": "stream",
     "text": [
      "Max distance in thickness map: 7\n"
     ]
    },
    {
     "name": "stderr",
     "output_type": "stream",
     "text": [
      "/tmp/ipykernel_1557849/301844888.py:16: VisibleDeprecationWarning: separator in column name will change to _ in version 0.13; to silence this warning, use `separator='-'` to maintain current behavior and use `separator='_'` to switch to the new default behavior.\n",
      "  principal_branch_data = summarize(principal_skel)\n"
     ]
    },
    {
     "name": "stdout",
     "output_type": "stream",
     "text": [
      "Number of branch type 0: 58\n",
      "Number of branch type 1: 99\n",
      "Number of branch type 2: 125\n",
      "Number of branch type 3: 6\n"
     ]
    }
   ],
   "source": [
    "bottom_part_gt = tiff.imread('/zhome/57/0/203104/specialCourse_fall24/outputs/output_volume_smaller_UNET_BOTTOM.tif')\n",
    "\n",
    "skeleton = skeletonize(bottom_part_gt)\n",
    "\n",
    "skeleton_bottom_part_gt = np.where(skeleton == True, 1, 0)\n",
    "skeleton_bottom_part_gt = skeleton_bottom_part_gt.astype(np.uint8)\n",
    "\n",
    "thickness = local_thickness(bottom_part_gt, implementation=\"cupy\")\n",
    "\n",
    "thickness_map = thickness*skeleton_bottom_part_gt\n",
    "\n",
    "max_distance = np.max(thickness_map[thickness_map > 0])\n",
    "print(f\"Max distance in thickness map: {max_distance}\")\n",
    "\n",
    "principal_skel = Skeleton(skeleton_bottom_part_gt)\n",
    "principal_branch_data = summarize(principal_skel)\n",
    "\n",
    "skeleleton_clean_x40_th4 = remove_branches(skeleton=skeleton_bottom_part_gt, \n",
    "                                           branch_data=principal_branch_data, \n",
    "                                           skel=principal_skel, \n",
    "                                           thickness_map=thickness_map, \n",
    "                                           length_threshold=40, \n",
    "                                           thickness_threshold=4)\n",
    "\n",
    "skeleleton_clean_x20_th5 = remove_branches(skeleton=skeleleton_clean_x40_th4, \n",
    "                                           branch_data=principal_branch_data, \n",
    "                                           skel=principal_skel, \n",
    "                                           thickness_map=thickness_map, \n",
    "                                           length_threshold=20, \n",
    "                                           thickness_threshold=5)\n",
    "print_branches(skeleleton_clean_x20_th5)\n",
    "\n",
    "output_path_cleaned = '/zhome/57/0/203104/specialCourse_fall24/outputs/skeleleton_clean_x20_th5_UNET_BOTTOM.tif'\n",
    "tiff.imwrite(output_path_cleaned, skeleleton_clean_x20_th5)"
   ]
  },
  {
   "cell_type": "markdown",
   "metadata": {},
   "source": [
    "## TOP PART SKELETON - GROUND TRUTH"
   ]
  },
  {
   "cell_type": "code",
   "execution_count": 7,
   "metadata": {},
   "outputs": [],
   "source": [
    "top_part_gt = tiff.imread('/zhome/57/0/203104/specialCourse_fall24/outputs/output_volume_smaller_TOP.tif')\n",
    "\n",
    "skeleton = skeletonize(top_part_gt)\n",
    "\n",
    "skeleton_top_part_gt = np.where(skeleton == True, 1, 0)\n",
    "skeleton_top_part_gt = skeleton_top_part_gt.astype(np.uint8)"
   ]
  },
  {
   "cell_type": "markdown",
   "metadata": {},
   "source": [
    "Calculate the thcikness map"
   ]
  },
  {
   "cell_type": "code",
   "execution_count": 8,
   "metadata": {},
   "outputs": [
    {
     "name": "stdout",
     "output_type": "stream",
     "text": [
      "Max distance in thickness map: 9\n"
     ]
    },
    {
     "name": "stderr",
     "output_type": "stream",
     "text": [
      "/tmp/ipykernel_1557849/2575666021.py:10: VisibleDeprecationWarning: separator in column name will change to _ in version 0.13; to silence this warning, use `separator='-'` to maintain current behavior and use `separator='_'` to switch to the new default behavior.\n",
      "  principal_branch_data = summarize(principal_skel)\n"
     ]
    }
   ],
   "source": [
    "# Implement thickness with cuda\n",
    "thickness = local_thickness(top_part_gt, implementation=\"cupy\")\n",
    "\n",
    "thickness_map = thickness*skeleton_top_part_gt\n",
    "\n",
    "max_distance = np.max(thickness_map[thickness_map > 0])\n",
    "print(f\"Max distance in thickness map: {max_distance}\")\n",
    "\n",
    "principal_skel = Skeleton(skeleton_top_part_gt)\n",
    "principal_branch_data = summarize(principal_skel)"
   ]
  },
  {
   "cell_type": "code",
   "execution_count": 9,
   "metadata": {},
   "outputs": [],
   "source": [
    "skeleleton_clean_x40_th4 = remove_branches(skeleton=skeleton_top_part_gt, \n",
    "                                           branch_data=principal_branch_data, \n",
    "                                           skel=principal_skel, \n",
    "                                           thickness_map=thickness_map, \n",
    "                                           length_threshold=40, \n",
    "                                           thickness_threshold=4)"
   ]
  },
  {
   "cell_type": "code",
   "execution_count": 10,
   "metadata": {},
   "outputs": [
    {
     "name": "stdout",
     "output_type": "stream",
     "text": [
      "Number of branch type 0: 22\n",
      "Number of branch type 1: 37\n",
      "Number of branch type 2: 19\n",
      "Number of branch type 3: 0\n"
     ]
    }
   ],
   "source": [
    "skeleleton_clean_x20_th5 = remove_branches(skeleton=skeleleton_clean_x40_th4, \n",
    "                                           branch_data=principal_branch_data, \n",
    "                                           skel=principal_skel, \n",
    "                                           thickness_map=thickness_map, \n",
    "                                           length_threshold=20, \n",
    "                                           thickness_threshold=5)\n",
    "print_branches(skeleleton_clean_x20_th5)\n",
    "\n",
    "output_path_cleaned = '/zhome/57/0/203104/specialCourse_fall24/outputs/skeleleton_clean_x20_th5_TOP.tif'\n",
    "tiff.imwrite(output_path_cleaned, skeleleton_clean_x20_th5)"
   ]
  },
  {
   "cell_type": "markdown",
   "metadata": {},
   "source": [
    "## TOP PART SKELETON - UNET"
   ]
  },
  {
   "cell_type": "code",
   "execution_count": 14,
   "metadata": {},
   "outputs": [
    {
     "name": "stdout",
     "output_type": "stream",
     "text": [
      "Max distance in thickness map: 10\n",
      "Number of branch type 0: 75\n",
      "Number of branch type 1: 33\n",
      "Number of branch type 2: 29\n",
      "Number of branch type 3: 2\n"
     ]
    },
    {
     "name": "stderr",
     "output_type": "stream",
     "text": [
      "/tmp/ipykernel_1557849/2660861731.py:16: VisibleDeprecationWarning: separator in column name will change to _ in version 0.13; to silence this warning, use `separator='-'` to maintain current behavior and use `separator='_'` to switch to the new default behavior.\n",
      "  principal_branch_data = summarize(principal_skel)\n"
     ]
    }
   ],
   "source": [
    "bottom_part_gt = tiff.imread('/zhome/57/0/203104/specialCourse_fall24/outputs/output_volume_smaller_UNET_TOP.tif')\n",
    "\n",
    "skeleton = skeletonize(bottom_part_gt)\n",
    "\n",
    "skeleton_bottom_part_gt = np.where(skeleton == True, 1, 0)\n",
    "skeleton_bottom_part_gt = skeleton_bottom_part_gt.astype(np.uint8)\n",
    "\n",
    "thickness = local_thickness(bottom_part_gt, implementation=\"cupy\")\n",
    "\n",
    "thickness_map = thickness*skeleton_bottom_part_gt\n",
    "\n",
    "max_distance = np.max(thickness_map[thickness_map > 0])\n",
    "print(f\"Max distance in thickness map: {max_distance}\")\n",
    "\n",
    "principal_skel = Skeleton(skeleton_bottom_part_gt)\n",
    "principal_branch_data = summarize(principal_skel)\n",
    "\n",
    "skeleleton_clean_x40_th4 = remove_branches(skeleton=skeleton_bottom_part_gt, \n",
    "                                           branch_data=principal_branch_data, \n",
    "                                           skel=principal_skel, \n",
    "                                           thickness_map=thickness_map, \n",
    "                                           length_threshold=40, \n",
    "                                           thickness_threshold=4)\n",
    "\n",
    "skeleleton_clean_x20_th5 = remove_branches(skeleton=skeleleton_clean_x40_th4, \n",
    "                                           branch_data=principal_branch_data, \n",
    "                                           skel=principal_skel, \n",
    "                                           thickness_map=thickness_map, \n",
    "                                           length_threshold=20, \n",
    "                                           thickness_threshold=5)\n",
    "print_branches(skeleleton_clean_x20_th5)\n",
    "\n",
    "output_path_cleaned = '/zhome/57/0/203104/specialCourse_fall24/outputs/skeleleton_clean_x20_th5_UNET_TOP.tif'\n",
    "tiff.imwrite(output_path_cleaned, skeleleton_clean_x20_th5)"
   ]
  }
 ],
 "metadata": {
  "kernelspec": {
   "display_name": "Python 3 (ipykernel)",
   "language": "python",
   "name": "python3"
  },
  "language_info": {
   "codemirror_mode": {
    "name": "ipython",
    "version": 3
   },
   "file_extension": ".py",
   "mimetype": "text/x-python",
   "name": "python",
   "nbconvert_exporter": "python",
   "pygments_lexer": "ipython3",
   "version": "3.11.10"
  }
 },
 "nbformat": 4,
 "nbformat_minor": 2
}
