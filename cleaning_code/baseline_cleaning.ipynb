{
 "cells": [
  {
   "cell_type": "code",
   "execution_count": 9,
   "metadata": {},
   "outputs": [],
   "source": [
    "import numpy as np\n",
    "# import cupy as cp\n",
    "# print(cp.__version__)\n",
    "import tifffile as tiff\n",
    "from skimage.morphology import skeletonize  # Import for skeletonization\n",
    "from skan import Skeleton, summarize\n",
    "from joblib import Parallel, delayed\n",
    "import sys\n",
    "\n",
    "sys.path.append('C:/Users/nerea/Documents/MasterDTU/SpacialCourse_Fall24/specialCourse_fall24')\n",
    "from cleaning_functions import neighbors, is_junction_point, remove_branches, print_branches, remove_branches_baseline\n"
   ]
  },
  {
   "cell_type": "markdown",
   "metadata": {},
   "source": [
    "## BOTTOM -GROUND THRUTH"
   ]
  },
  {
   "cell_type": "code",
   "execution_count": 11,
   "metadata": {},
   "outputs": [],
   "source": [
    "baseline_skeleton = tiff.imread(\"C:/Users/nerea/Documents/MasterDTU/SpacialCourse_Fall24/specialCourse_fall24/outputs/output_volume_smaller_skeleton_BOTTOM.tif\")\n",
    "skel = Skeleton(baseline_skeleton)\n",
    "branch_data = summarize(skel)\n",
    "\n",
    "baseline_clean = remove_branches_baseline(baseline_skeleton, branch_data, skel)\n",
    "tiff.imwrite(\"C:/Users/nerea/Documents/MasterDTU/SpacialCourse_Fall24/specialCourse_fall24/outputs/baseline_gt_BOTTOM.tif\", baseline_clean)"
   ]
  },
  {
   "cell_type": "markdown",
   "metadata": {},
   "source": [
    "## BOTTOM - UNET"
   ]
  },
  {
   "cell_type": "code",
   "execution_count": 12,
   "metadata": {},
   "outputs": [],
   "source": [
    "baseline_skeleton = tiff.imread(\"C:/Users/nerea/Documents/MasterDTU/SpacialCourse_Fall24/specialCourse_fall24/outputs/output_volume_smaller_skeleton_UNET_BOTTOM.tif\")\n",
    "skel = Skeleton(baseline_skeleton)\n",
    "branch_data = summarize(skel)\n",
    "\n",
    "baseline_clean = remove_branches_baseline(baseline_skeleton, branch_data, skel)\n",
    "tiff.imwrite(\"C:/Users/nerea/Documents/MasterDTU/SpacialCourse_Fall24/specialCourse_fall24/outputs/baseline_gt_UNET_BOTTOM.tif\", baseline_clean)"
   ]
  },
  {
   "cell_type": "markdown",
   "metadata": {},
   "source": [
    "## TOP - GROUND THRUTH"
   ]
  },
  {
   "cell_type": "code",
   "execution_count": 13,
   "metadata": {},
   "outputs": [],
   "source": [
    "baseline_skeleton = tiff.imread(\"C:/Users/nerea/Documents/MasterDTU/SpacialCourse_Fall24/specialCourse_fall24/outputs/output_volume_smaller_skeleton_TOP.tif\")\n",
    "skel = Skeleton(baseline_skeleton)\n",
    "branch_data = summarize(skel)\n",
    "\n",
    "baseline_clean = remove_branches_baseline(baseline_skeleton, branch_data, skel)\n",
    "tiff.imwrite(\"C:/Users/nerea/Documents/MasterDTU/SpacialCourse_Fall24/specialCourse_fall24/outputs/baseline_gt_TOP.tif\", baseline_clean)"
   ]
  },
  {
   "cell_type": "markdown",
   "metadata": {},
   "source": [
    "## TOP - UNET"
   ]
  },
  {
   "cell_type": "code",
   "execution_count": 14,
   "metadata": {},
   "outputs": [],
   "source": [
    "baseline_skeleton = tiff.imread(\"C:/Users/nerea/Documents/MasterDTU/SpacialCourse_Fall24/specialCourse_fall24/outputs/output_volume_smaller_skeleton_UNET_TOP.tif\")\n",
    "skel = Skeleton(baseline_skeleton)\n",
    "branch_data = summarize(skel)\n",
    "\n",
    "baseline_clean = remove_branches_baseline(baseline_skeleton, branch_data, skel)\n",
    "tiff.imwrite(\"C:/Users/nerea/Documents/MasterDTU/SpacialCourse_Fall24/specialCourse_fall24/outputs/baseline_gt_UNET_TOP.tif\", baseline_clean)"
   ]
  }
 ],
 "metadata": {
  "kernelspec": {
   "display_name": "SCenv",
   "language": "python",
   "name": "python3"
  },
  "language_info": {
   "codemirror_mode": {
    "name": "ipython",
    "version": 3
   },
   "file_extension": ".py",
   "mimetype": "text/x-python",
   "name": "python",
   "nbconvert_exporter": "python",
   "pygments_lexer": "ipython3",
   "version": "3.11.10"
  }
 },
 "nbformat": 4,
 "nbformat_minor": 2
}
