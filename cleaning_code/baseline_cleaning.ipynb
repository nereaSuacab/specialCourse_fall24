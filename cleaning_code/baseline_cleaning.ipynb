{
 "cells": [
  {
   "cell_type": "code",
   "execution_count": 2,
   "metadata": {},
   "outputs": [],
   "source": [
    "import numpy as np\n",
    "# import cupy as cp\n",
    "# print(cp.__version__)\n",
    "import tifffile as tiff\n",
    "from skimage.morphology import skeletonize  # Import for skeletonization\n",
    "from skan import Skeleton, summarize\n",
    "from joblib import Parallel, delayed\n",
    "import sys"
   ]
  },
  {
   "cell_type": "code",
   "execution_count": null,
   "metadata": {},
   "outputs": [],
   "source": [
    "def remove_branches_baseline(skeleton, branch_data, skel):\n",
    "    # Copy the skeleton to avoid modifying the original\n",
    "    skeleton_cleaned = np.copy(skeleton)\n",
    "    \n",
    "    # Iterate over each branch\n",
    "    for branch_id in branch_data.index:\n",
    "        # Only process branches of type 1\n",
    "        if branch_data.loc[branch_id, 'branch-type'] == 1:\n",
    "            coordinates = skel.path_coordinates(branch_id)\n",
    "            for coord in coordinates:\n",
    "                skeleton_cleaned[coord[0], coord[1], coord[2]] = 0\n",
    "    \n",
    "    return skeleton_cleaned"
   ]
  },
  {
   "cell_type": "code",
   "execution_count": 4,
   "metadata": {},
   "outputs": [],
   "source": [
    "def print_branches(skeleton_cleaned):\n",
    "    skel = Skeleton(skeleton_cleaned)\n",
    "    branch_data = summarize(skel)\n",
    "\n",
    "    branch_type_0 = branch_data[branch_data['branch-type'] == 0]\n",
    "    branch_type_1 = branch_data[branch_data['branch-type'] == 1]\n",
    "    branch_type_2 = branch_data[branch_data['branch-type'] == 2]\n",
    "    branch_type_3 = branch_data[branch_data['branch-type'] == 3]\n",
    "\n",
    "    print(f\"Number of branch type 0: {len(branch_type_0)}\")\n",
    "    print(f\"Number of branch type 1: {len(branch_type_1)}\")\n",
    "    print(f\"Number of branch type 2: {len(branch_type_2)}\")\n",
    "    print(f\"Number of branch type 3: {len(branch_type_3)}\")"
   ]
  },
  {
   "cell_type": "markdown",
   "metadata": {},
   "source": [
    "## BASELINE NORMAL"
   ]
  },
  {
   "cell_type": "code",
   "execution_count": 17,
   "metadata": {},
   "outputs": [
    {
     "name": "stdout",
     "output_type": "stream",
     "text": [
      "Number of branch type 0: 0\n",
      "Number of branch type 1: 67\n",
      "Number of branch type 2: 64\n",
      "Number of branch type 3: 0\n"
     ]
    }
   ],
   "source": [
    "baseline_skeleton = tiff.imread(\"C:/Users/nerea/Documents/MasterDTU/SpacialCourse_Fall24/specialCourse_fall24/outputs/output_volume_smaller_skeleton.tif\")\n",
    "print_branches(baseline_skeleton)\n",
    "skel = Skeleton(baseline_skeleton)\n",
    "branch_data = summarize(skel)"
   ]
  },
  {
   "cell_type": "code",
   "execution_count": 18,
   "metadata": {},
   "outputs": [
    {
     "name": "stdout",
     "output_type": "stream",
     "text": [
      "Number of branch type 0: 17\n",
      "Number of branch type 1: 21\n",
      "Number of branch type 2: 9\n",
      "Number of branch type 3: 0\n"
     ]
    }
   ],
   "source": [
    "baseline_clean = remove_branches_baseline(baseline_skeleton, branch_data, skel)\n",
    "print_branches(baseline_clean)\n",
    "tiff.imwrite(\"C:/Users/nerea/Documents/MasterDTU/SpacialCourse_Fall24/specialCourse_fall24/outputs/baseline_gt.tif\", baseline_clean)"
   ]
  },
  {
   "cell_type": "markdown",
   "metadata": {},
   "source": [
    "## BASELINE UNET"
   ]
  },
  {
   "cell_type": "code",
   "execution_count": 19,
   "metadata": {},
   "outputs": [
    {
     "name": "stdout",
     "output_type": "stream",
     "text": [
      "Number of branch type 0: 26\n",
      "Number of branch type 1: 256\n",
      "Number of branch type 2: 320\n",
      "Number of branch type 3: 1\n"
     ]
    }
   ],
   "source": [
    "baseline_unet = tiff.imread(\"C:/Users/nerea/Documents/MasterDTU/SpacialCourse_Fall24/specialCourse_fall24/outputs/output_volume_smaller_skeleton_UNET.tif\")\n",
    "print_branches(baseline_unet)\n",
    "skel = Skeleton(baseline_unet)\n",
    "branch_data = summarize(skel)"
   ]
  },
  {
   "cell_type": "code",
   "execution_count": 20,
   "metadata": {},
   "outputs": [
    {
     "name": "stdout",
     "output_type": "stream",
     "text": [
      "Number of branch type 0: 59\n",
      "Number of branch type 1: 80\n",
      "Number of branch type 2: 100\n",
      "Number of branch type 3: 6\n"
     ]
    }
   ],
   "source": [
    "baseline_clean_unet = remove_branches_baseline(baseline_unet, branch_data, skel)\n",
    "print_branches(baseline_clean_unet)\n",
    "tiff.imwrite(\"C:/Users/nerea/Documents/MasterDTU/SpacialCourse_Fall24/specialCourse_fall24/outputs/baseline_UNET.tif\", baseline_clean_unet)\n"
   ]
  }
 ],
 "metadata": {
  "kernelspec": {
   "display_name": "SCenv",
   "language": "python",
   "name": "python3"
  },
  "language_info": {
   "codemirror_mode": {
    "name": "ipython",
    "version": 3
   },
   "file_extension": ".py",
   "mimetype": "text/x-python",
   "name": "python",
   "nbconvert_exporter": "python",
   "pygments_lexer": "ipython3",
   "version": "3.11.10"
  }
 },
 "nbformat": 4,
 "nbformat_minor": 2
}
