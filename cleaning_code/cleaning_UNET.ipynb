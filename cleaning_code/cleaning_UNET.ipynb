{
 "cells": [
  {
   "cell_type": "code",
   "execution_count": 12,
   "metadata": {},
   "outputs": [
    {
     "name": "stdout",
     "output_type": "stream",
     "text": [
      "Size of the volume is: (200, 200, 200)\n",
      "Dilated volume saved to C:/Users/nerea/Documents/MasterDTU/SpacialCourse_Fall24/specialCourse_fall24/outputs/balls_UNET.tif\n"
     ]
    }
   ],
   "source": [
    "import numpy as np\n",
    "import tifffile as tiff\n",
    "from scipy.ndimage import binary_dilation, binary_erosion\n",
    "\n",
    "# Load the binary volume\n",
    "binary_volume = tiff.imread(\"C:/Users/nerea/Documents/MasterDTU/SpacialCourse_Fall24/specialCourse_fall24/outputs/skeleleton_clean_x20_th5_UNET.tif\")\n",
    "# Print the size of the volume\n",
    "print(f'Size of the volume is: {binary_volume.shape}')\n",
    "\n",
    "# Define the structuring element for dilation (3x3x3 cube in this case)\n",
    "# structuring_element = np.ones((2, 2, 2), dtype=np.uint8)\n",
    "structuring_element = np.zeros((3, 3, 3), dtype=np.uint8)\n",
    "\n",
    "# Define the \"cross\" pattern\n",
    "structuring_element[1, 1, :] = 1  # Line along the Z-axis\n",
    "structuring_element[1, :, 1] = 1  # Line along the Y-axis\n",
    "structuring_element[:, 1, 1] = 1  # Line along the X-axis\n",
    "# Apply binary dilation\n",
    "\n",
    "eroded_volume = binary_erosion(binary_volume, structure=structuring_element)\n",
    "\n",
    "balls = binary_dilation(eroded_volume, structure=structuring_element)\n",
    "\n",
    "# Save the dilated volume back to a TIFF file\n",
    "output_path = \"C:/Users/nerea/Documents/MasterDTU/SpacialCourse_Fall24/specialCourse_fall24/outputs/balls_UNET.tif\"\n",
    "tiff.imwrite(output_path, balls.astype(np.uint8))  # Save as uint8\n",
    "print(f\"Dilated volume saved to {output_path}\")"
   ]
  },
  {
   "cell_type": "code",
   "execution_count": 13,
   "metadata": {},
   "outputs": [
    {
     "name": "stdout",
     "output_type": "stream",
     "text": [
      "Cleaned volume saved to C:/Users/nerea/Documents/MasterDTU/SpacialCourse_Fall24/specialCourse_fall24/outputs/cleaned_UNET.tif\n"
     ]
    }
   ],
   "source": [
    "cleaned_volume = binary_volume - balls\n",
    "output_path = \"C:/Users/nerea/Documents/MasterDTU/SpacialCourse_Fall24/specialCourse_fall24/outputs/cleaned_UNET.tif\"\n",
    "tiff.imwrite(output_path, cleaned_volume.astype(np.uint8))  # Save as uint8\n",
    "print(f\"Cleaned volume saved to {output_path}\")"
   ]
  }
 ],
 "metadata": {
  "kernelspec": {
   "display_name": "SCenv",
   "language": "python",
   "name": "python3"
  },
  "language_info": {
   "codemirror_mode": {
    "name": "ipython",
    "version": 3
   },
   "file_extension": ".py",
   "mimetype": "text/x-python",
   "name": "python",
   "nbconvert_exporter": "python",
   "pygments_lexer": "ipython3",
   "version": "3.11.10"
  }
 },
 "nbformat": 4,
 "nbformat_minor": 2
}
