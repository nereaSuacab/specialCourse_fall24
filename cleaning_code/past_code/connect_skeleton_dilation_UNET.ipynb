{
 "cells": [
  {
   "cell_type": "code",
   "execution_count": 1,
   "metadata": {},
   "outputs": [],
   "source": [
    "import numpy as np\n",
    "# import cupy as cp\n",
    "# print(cp.__version__)\n",
    "import tifffile as tiff\n",
    "from skimage.morphology import skeletonize  # Import for skeletonization\n",
    "from skan import Skeleton, summarize\n",
    "from joblib import Parallel, delayed\n",
    "import sys\n",
    "# from ltedt import local_thickness"
   ]
  },
  {
   "cell_type": "code",
   "execution_count": 2,
   "metadata": {},
   "outputs": [],
   "source": [
    "def print_branches(skeleton_cleaned):\n",
    "    skel = Skeleton(skeleton_cleaned)\n",
    "    branch_data = summarize(skel)\n",
    "\n",
    "    branch_type_0 = branch_data[branch_data['branch-type'] == 0]\n",
    "    branch_type_1 = branch_data[branch_data['branch-type'] == 1]\n",
    "    branch_type_2 = branch_data[branch_data['branch-type'] == 2]\n",
    "    branch_type_3 = branch_data[branch_data['branch-type'] == 3]\n",
    "\n",
    "    print(f\"Number of branch type 0: {len(branch_type_0)}\")\n",
    "    print(f\"Number of branch type 1: {len(branch_type_1)}\")\n",
    "    print(f\"Number of branch type 2: {len(branch_type_2)}\")\n",
    "    print(f\"Number of branch type 3: {len(branch_type_3)}\")"
   ]
  },
  {
   "cell_type": "code",
   "execution_count": 3,
   "metadata": {},
   "outputs": [
    {
     "name": "stdout",
     "output_type": "stream",
     "text": [
      "Size of the volume is: (400, 200, 200)\n"
     ]
    }
   ],
   "source": [
    "# binary_volume = tiff.imread(\"/zhome/57/0/203104/specialCourse_fall24/outputs/output_volume.tif\")\n",
    "# binary_volume = tiff.imread(\"/zhome/57/0/203104/specialCourse_fall24/outputs/skeleleton_clean_x20_th5_UNET.tif\")\n",
    "binary_volume = tiff.imread(\"C:/Users/nerea/Documents/MasterDTU/SpacialCourse_Fall24/specialCourse_fall24/outputs/skeleleton_clean_x20_th5_UNET_TOP.tif\")\n",
    "# Get the size of the volume\n",
    "print(f'Size of the volume is: {binary_volume.shape}')"
   ]
  },
  {
   "cell_type": "code",
   "execution_count": 4,
   "metadata": {},
   "outputs": [
    {
     "name": "stdout",
     "output_type": "stream",
     "text": [
      "Number of branch type 0: 75\n",
      "Number of branch type 1: 33\n",
      "Number of branch type 2: 29\n",
      "Number of branch type 3: 2\n"
     ]
    }
   ],
   "source": [
    "print_branches(binary_volume)"
   ]
  },
  {
   "cell_type": "code",
   "execution_count": 5,
   "metadata": {},
   "outputs": [
    {
     "name": "stdout",
     "output_type": "stream",
     "text": [
      "15.317108287336767\n",
      "10.388905057061258\n",
      "13.706742302257041\n",
      "2.414213562373095\n",
      "18.77781011412252\n",
      "9.803118619434354\n",
      "1.4142135623730951\n",
      "20.46337265727874\n",
      "2.0\n",
      "43.755172439303664\n",
      "11.217332181807448\n",
      "2.732050807568877\n",
      "2.8284271247461903\n",
      "1.4142135623730951\n",
      "1.0\n",
      "14.803118619434352\n",
      "1.7320508075688772\n",
      "1.0\n",
      "21.192023676495612\n",
      "10.974691494688162\n",
      "1.4142135623730951\n",
      "3.0\n",
      "1.0\n",
      "20.36359655174942\n",
      "17.413484604514082\n",
      "37.38817609920224\n",
      "52.558291058738\n",
      "1.0\n",
      "6.146264369941973\n",
      "35.92334552620547\n",
      "1.0\n",
      "6.656854249492381\n",
      "3.732050807568877\n",
      "21.5132607100434\n",
      "1.0\n",
      "2.0\n",
      "47.38404735299121\n",
      "1.0\n",
      "7.292528739883944\n",
      "57.6546673759153\n",
      "2.0\n",
      "19.874186431299833\n",
      "1.0\n",
      "15.999271042140986\n",
      "1.0\n",
      "3.414213562373095\n",
      "16.899494936611667\n",
      "6.292528739883944\n",
      "1.4142135623730951\n",
      "1.7320508075688772\n",
      "1.4142135623730951\n",
      "1.0\n",
      "17.317108287336765\n",
      "11.292528739883945\n",
      "7.974691494688162\n",
      "1.0\n",
      "5.974691494688162\n",
      "18.459972868926734\n",
      "1.0\n",
      "1.0\n",
      "3.82842712474619\n",
      "6.974691494688162\n",
      "1.0\n",
      "1.4142135623730951\n",
      "10.217332181807448\n",
      "76.38598922562517\n",
      "8.071067811865476\n",
      "6.65685424949238\n",
      "4.82842712474619\n",
      "5.146264369941973\n",
      "6.5604779323150675\n",
      "1.7320508075688772\n",
      "11.120955864630137\n",
      "16.899494936611667\n",
      "1.0\n"
     ]
    }
   ],
   "source": [
    "skel = Skeleton(binary_volume)\n",
    "branch_data = summarize(skel)\n",
    "\n",
    "for branch_id in branch_data.index:\n",
    "    if branch_data.loc[branch_id, 'branch-type'] == 0:\n",
    "        branch_length = branch_data.loc[branch_id, 'branch-distance']\n",
    "        print(branch_length)"
   ]
  },
  {
   "cell_type": "markdown",
   "metadata": {},
   "source": [
    "## Dilation"
   ]
  },
  {
   "cell_type": "code",
   "execution_count": 6,
   "metadata": {},
   "outputs": [
    {
     "name": "stdout",
     "output_type": "stream",
     "text": [
      "Size of the volume is: (400, 200, 200)\n",
      "Dilated volume saved to C:/Users/nerea/Documents/MasterDTU/SpacialCourse_Fall24/specialCourse_fall24/outputs/dilated_volume_UNET_TOP.tif\n"
     ]
    }
   ],
   "source": [
    "import numpy as np\n",
    "import tifffile as tiff\n",
    "from scipy.ndimage import binary_dilation\n",
    "\n",
    "# Load the binary volume\n",
    "binary_volume = tiff.imread(\"C:/Users/nerea/Documents/MasterDTU/SpacialCourse_Fall24/specialCourse_fall24/outputs/skeleleton_clean_x20_th5_UNET_TOP.tif\")\n",
    "# Print the size of the volume\n",
    "print(f'Size of the volume is: {binary_volume.shape}')\n",
    "\n",
    "# Define the structuring element for dilation (3x3x3 cube in this case)\n",
    "structuring_element = np.ones((3, 3, 3), dtype=np.uint8)\n",
    "\n",
    "# Apply binary dilation\n",
    "dilated_volume = binary_dilation(binary_volume, structure=structuring_element)\n",
    "\n",
    "# Save the dilated volume back to a TIFF file\n",
    "output_path = \"C:/Users/nerea/Documents/MasterDTU/SpacialCourse_Fall24/specialCourse_fall24/outputs/dilated_volume_UNET_TOP.tif\"\n",
    "tiff.imwrite(output_path, dilated_volume.astype(np.uint8))  # Save as uint8\n",
    "print(f\"Dilated volume saved to {output_path}\")\n",
    "\n"
   ]
  },
  {
   "cell_type": "code",
   "execution_count": 7,
   "metadata": {},
   "outputs": [
    {
     "name": "stdout",
     "output_type": "stream",
     "text": [
      "Number of branch type 0: 63\n",
      "Number of branch type 1: 29\n",
      "Number of branch type 2: 23\n",
      "Number of branch type 3: 0\n",
      "Dilated volume saved to C:/Users/nerea/Documents/MasterDTU/SpacialCourse_Fall24/specialCourse_fall24/outputs/dilated_volume_skeleton_UNET_TOP.tif\n"
     ]
    }
   ],
   "source": [
    "dilated_skeleton = skeletonize(dilated_volume)\n",
    "print_branches(dilated_skeleton)\n",
    "\n",
    "output_path = \"C:/Users/nerea/Documents/MasterDTU/SpacialCourse_Fall24/specialCourse_fall24/outputs/dilated_volume_skeleton_UNET_TOP.tif\"\n",
    "tiff.imwrite(output_path, dilated_skeleton.astype(np.uint8))  # Save as uint8\n",
    "print(f\"Dilated volume saved to {output_path}\")"
   ]
  },
  {
   "cell_type": "code",
   "execution_count": null,
   "metadata": {},
   "outputs": [],
   "source": []
  }
 ],
 "metadata": {
  "kernelspec": {
   "display_name": "SCenv",
   "language": "python",
   "name": "python3"
  },
  "language_info": {
   "codemirror_mode": {
    "name": "ipython",
    "version": 3
   },
   "file_extension": ".py",
   "mimetype": "text/x-python",
   "name": "python",
   "nbconvert_exporter": "python",
   "pygments_lexer": "ipython3",
   "version": "3.11.10"
  }
 },
 "nbformat": 4,
 "nbformat_minor": 2
}
