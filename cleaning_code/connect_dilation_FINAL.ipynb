{
 "cells": [
  {
   "cell_type": "code",
   "execution_count": 1,
   "metadata": {},
   "outputs": [],
   "source": [
    "import numpy as np\n",
    "import tifffile as tiff\n",
    "from skimage.morphology import skeletonize  # Import for skeletonization\n",
    "from skan import Skeleton, summarize\n",
    "from joblib import Parallel, delayed\n",
    "import sys\n",
    "from scipy.ndimage import binary_dilation\n"
   ]
  },
  {
   "cell_type": "markdown",
   "metadata": {},
   "source": [
    "## BOTTOM GT"
   ]
  },
  {
   "cell_type": "code",
   "execution_count": 2,
   "metadata": {},
   "outputs": [],
   "source": [
    "# Load the binary volume\n",
    "binary_volume = tiff.imread(\"C:/Users/nerea/Documents/MasterDTU/SpacialCourse_Fall24/specialCourse_fall24/outputs/FINAL/skeleleton_clean_x20_th5_BOTTOM.tif\")\n",
    "\n",
    "\n",
    "# Define the structuring element for dilation (3x3x3 cube in this case)\n",
    "structuring_element = np.ones((3, 3, 3), dtype=np.uint8)\n",
    "\n",
    "# Apply binary dilation\n",
    "dilated_volume = binary_dilation(binary_volume, structure=structuring_element)\n",
    "\n",
    "# Save the dilated volume back to a TIFF file\n",
    "#output_path = \"C:/Users/nerea/Documents/MasterDTU/SpacialCourse_Fall24/specialCourse_fall24/outputs/dilated_volume_TOP.tif\"\n",
    "#tiff.imwrite(output_path, dilated_volume.astype(np.uint8))  # Save as uint8\n",
    "#print(f\"Dilated volume saved to {output_path}\")\n",
    "\n",
    "dilated_skeleton = skeletonize(dilated_volume)\n",
    "\n",
    "output_path = \"C:/Users/nerea/Documents/MasterDTU/SpacialCourse_Fall24/specialCourse_fall24/outputs/dilated_volume_skeleton_BOTTOM.tif\"\n",
    "tiff.imwrite(output_path, dilated_skeleton.astype(np.uint8))  # Save as uint8\n",
    "#print(f\"Dilated volume saved to {output_path}\")\n"
   ]
  },
  {
   "cell_type": "markdown",
   "metadata": {},
   "source": [
    "## BOTTOM UNET"
   ]
  },
  {
   "cell_type": "code",
   "execution_count": 3,
   "metadata": {},
   "outputs": [],
   "source": [
    "# Load the binary volume\n",
    "binary_volume = tiff.imread(\"C:/Users/nerea/Documents/MasterDTU/SpacialCourse_Fall24/specialCourse_fall24/outputs/FINAL/skeleleton_clean_x20_th5_UNET_BOTTOM.tif\")\n",
    "\n",
    "\n",
    "# Define the structuring element for dilation (3x3x3 cube in this case)\n",
    "structuring_element = np.ones((3, 3, 3), dtype=np.uint8)\n",
    "\n",
    "# Apply binary dilation\n",
    "dilated_volume = binary_dilation(binary_volume, structure=structuring_element)\n",
    "\n",
    "# Save the dilated volume back to a TIFF file\n",
    "#output_path = \"C:/Users/nerea/Documents/MasterDTU/SpacialCourse_Fall24/specialCourse_fall24/outputs/dilated_volume_TOP.tif\"\n",
    "#tiff.imwrite(output_path, dilated_volume.astype(np.uint8))  # Save as uint8\n",
    "#print(f\"Dilated volume saved to {output_path}\")\n",
    "\n",
    "dilated_skeleton = skeletonize(dilated_volume)\n",
    "\n",
    "output_path = \"C:/Users/nerea/Documents/MasterDTU/SpacialCourse_Fall24/specialCourse_fall24/outputs/dilated_volume_skeleton_UNET_BOTTOM.tif\"\n",
    "tiff.imwrite(output_path, dilated_skeleton.astype(np.uint8))  # Save as uint8\n",
    "#print(f\"Dilated volume saved to {output_path}\")\n"
   ]
  },
  {
   "cell_type": "markdown",
   "metadata": {},
   "source": [
    "## TOP GT"
   ]
  },
  {
   "cell_type": "code",
   "execution_count": 4,
   "metadata": {},
   "outputs": [],
   "source": [
    "# Load the binary volume\n",
    "binary_volume = tiff.imread(\"C:/Users/nerea/Documents/MasterDTU/SpacialCourse_Fall24/specialCourse_fall24/outputs/FINAL/skeleleton_clean_x20_th5_TOP.tif\")\n",
    "\n",
    "\n",
    "# Define the structuring element for dilation (3x3x3 cube in this case)\n",
    "structuring_element = np.ones((3, 3, 3), dtype=np.uint8)\n",
    "\n",
    "# Apply binary dilation\n",
    "dilated_volume = binary_dilation(binary_volume, structure=structuring_element)\n",
    "\n",
    "# Save the dilated volume back to a TIFF file\n",
    "#output_path = \"C:/Users/nerea/Documents/MasterDTU/SpacialCourse_Fall24/specialCourse_fall24/outputs/dilated_volume_TOP.tif\"\n",
    "#tiff.imwrite(output_path, dilated_volume.astype(np.uint8))  # Save as uint8\n",
    "#print(f\"Dilated volume saved to {output_path}\")\n",
    "\n",
    "dilated_skeleton = skeletonize(dilated_volume)\n",
    "\n",
    "output_path = \"C:/Users/nerea/Documents/MasterDTU/SpacialCourse_Fall24/specialCourse_fall24/outputs/dilated_volume_skeleton_TOP.tif\"\n",
    "tiff.imwrite(output_path, dilated_skeleton.astype(np.uint8))  # Save as uint8\n",
    "#print(f\"Dilated volume saved to {output_path}\")\n"
   ]
  },
  {
   "cell_type": "markdown",
   "metadata": {},
   "source": [
    "## TOP UNET"
   ]
  },
  {
   "cell_type": "code",
   "execution_count": 5,
   "metadata": {},
   "outputs": [],
   "source": [
    "# Load the binary volume\n",
    "binary_volume = tiff.imread(\"C:/Users/nerea/Documents/MasterDTU/SpacialCourse_Fall24/specialCourse_fall24/outputs/FINAL/skeleleton_clean_x20_th5_UNET_TOP.tif\")\n",
    "\n",
    "\n",
    "# Define the structuring element for dilation (3x3x3 cube in this case)\n",
    "structuring_element = np.ones((3, 3, 3), dtype=np.uint8)\n",
    "\n",
    "# Apply binary dilation\n",
    "dilated_volume = binary_dilation(binary_volume, structure=structuring_element)\n",
    "\n",
    "# Save the dilated volume back to a TIFF file\n",
    "#output_path = \"C:/Users/nerea/Documents/MasterDTU/SpacialCourse_Fall24/specialCourse_fall24/outputs/dilated_volume_TOP.tif\"\n",
    "#tiff.imwrite(output_path, dilated_volume.astype(np.uint8))  # Save as uint8\n",
    "#print(f\"Dilated volume saved to {output_path}\")\n",
    "\n",
    "dilated_skeleton = skeletonize(dilated_volume)\n",
    "\n",
    "output_path = \"C:/Users/nerea/Documents/MasterDTU/SpacialCourse_Fall24/specialCourse_fall24/outputs/dilated_volume_skeleton_TOP_UNET.tif\"\n",
    "tiff.imwrite(output_path, dilated_skeleton.astype(np.uint8))  # Save as uint8\n",
    "#print(f\"Dilated volume saved to {output_path}\")\n"
   ]
  }
 ],
 "metadata": {
  "kernelspec": {
   "display_name": "SCenv",
   "language": "python",
   "name": "python3"
  },
  "language_info": {
   "codemirror_mode": {
    "name": "ipython",
    "version": 3
   },
   "file_extension": ".py",
   "mimetype": "text/x-python",
   "name": "python",
   "nbconvert_exporter": "python",
   "pygments_lexer": "ipython3",
   "version": "3.11.10"
  }
 },
 "nbformat": 4,
 "nbformat_minor": 2
}
