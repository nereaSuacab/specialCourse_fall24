{
 "cells": [
  {
   "cell_type": "code",
   "execution_count": 1,
   "metadata": {},
   "outputs": [],
   "source": [
    "import numpy as np\n",
    "# import cupy as cp\n",
    "# print(cp.__version__)\n",
    "import tifffile as tiff\n",
    "from skimage.morphology import skeletonize  # Import for skeletonization\n",
    "from skan import Skeleton, summarize\n",
    "from joblib import Parallel, delayed\n",
    "import sys\n",
    "# from ltedt import local_thickness"
   ]
  },
  {
   "cell_type": "code",
   "execution_count": 2,
   "metadata": {},
   "outputs": [],
   "source": [
    "def print_branches(skeleton_cleaned):\n",
    "    skel = Skeleton(skeleton_cleaned)\n",
    "    branch_data = summarize(skel)\n",
    "\n",
    "    branch_type_0 = branch_data[branch_data['branch-type'] == 0]\n",
    "    branch_type_1 = branch_data[branch_data['branch-type'] == 1]\n",
    "    branch_type_2 = branch_data[branch_data['branch-type'] == 2]\n",
    "    branch_type_3 = branch_data[branch_data['branch-type'] == 3]\n",
    "\n",
    "    print(f\"Number of branch type 0: {len(branch_type_0)}\")\n",
    "    print(f\"Number of branch type 1: {len(branch_type_1)}\")\n",
    "    print(f\"Number of branch type 2: {len(branch_type_2)}\")\n",
    "    print(f\"Number of branch type 3: {len(branch_type_3)}\")"
   ]
  },
  {
   "cell_type": "code",
   "execution_count": 3,
   "metadata": {},
   "outputs": [
    {
     "name": "stdout",
     "output_type": "stream",
     "text": [
      "Size of the volume is: (200, 200, 200)\n"
     ]
    }
   ],
   "source": [
    "# binary_volume = tiff.imread(\"/zhome/57/0/203104/specialCourse_fall24/outputs/output_volume.tif\")\n",
    "# binary_volume = tiff.imread(\"/zhome/57/0/203104/specialCourse_fall24/outputs/skeleleton_clean_x20_th5_UNET.tif\")\n",
    "binary_volume = tiff.imread(\"C:/Users/nerea/Documents/MasterDTU/SpacialCourse_Fall24/specialCourse_fall24/outputs/skeleleton_clean_x20_th5_UNET.tif\")\n",
    "# Get the size of the volume\n",
    "print(f'Size of the volume is: {binary_volume.shape}')"
   ]
  },
  {
   "cell_type": "code",
   "execution_count": 4,
   "metadata": {},
   "outputs": [
    {
     "name": "stdout",
     "output_type": "stream",
     "text": [
      "Number of branch type 0: 51\n",
      "Number of branch type 1: 182\n",
      "Number of branch type 2: 218\n",
      "Number of branch type 3: 2\n"
     ]
    }
   ],
   "source": [
    "print_branches(binary_volume)"
   ]
  },
  {
   "cell_type": "code",
   "execution_count": 5,
   "metadata": {},
   "outputs": [
    {
     "name": "stdout",
     "output_type": "stream",
     "text": [
      "12.53516942700323\n",
      "13.53516942700323\n",
      "4.878315177510849\n",
      "2.8284271247461903\n",
      "1.4142135623730951\n",
      "1.0\n",
      "2.0\n",
      "1.0\n",
      "10.803118619434352\n",
      "9.242640687119284\n",
      "21.313708498984763\n",
      "2.8284271247461903\n",
      "1.0\n",
      "4.0\n",
      "2.8284271247461903\n",
      "1.0\n",
      "2.8284271247461903\n",
      "28.40935585830307\n",
      "1.0\n",
      "2.414213562373095\n",
      "2.414213562373095\n",
      "1.0\n",
      "4.5604779323150675\n",
      "1.4142135623730951\n",
      "18.5098609216914\n",
      "4.878315177510849\n",
      "1.0\n",
      "1.0\n",
      "1.0\n",
      "1.4142135623730951\n",
      "7.65685424949238\n",
      "6.560477932315067\n",
      "8.292528739883945\n",
      "1.7320508075688772\n",
      "1.4142135623730951\n",
      "1.4142135623730951\n",
      "9.803118619434354\n",
      "10.485281374238571\n",
      "1.0\n",
      "6.5604779323150675\n",
      "2.8284271247461903\n",
      "1.0\n",
      "1.0\n",
      "1.0\n",
      "2.0\n",
      "5.242640687119285\n",
      "8.82842712474619\n",
      "3.82842712474619\n",
      "3.414213562373095\n",
      "3.0\n",
      "3.0\n"
     ]
    }
   ],
   "source": [
    "skel = Skeleton(binary_volume)\n",
    "branch_data = summarize(skel)\n",
    "\n",
    "for branch_id in branch_data.index:\n",
    "    if branch_data.loc[branch_id, 'branch-type'] == 0:\n",
    "        branch_length = branch_data.loc[branch_id, 'branch-distance']\n",
    "        print(branch_length)"
   ]
  },
  {
   "cell_type": "markdown",
   "metadata": {},
   "source": [
    "## Dilation"
   ]
  },
  {
   "cell_type": "code",
   "execution_count": 6,
   "metadata": {},
   "outputs": [
    {
     "name": "stdout",
     "output_type": "stream",
     "text": [
      "Size of the volume is: (200, 200, 200)\n",
      "Dilated volume saved to C:/Users/nerea/Documents/MasterDTU/SpacialCourse_Fall24/specialCourse_fall24/outputs/dilated_volume_UNET.tif\n"
     ]
    }
   ],
   "source": [
    "import numpy as np\n",
    "import tifffile as tiff\n",
    "from scipy.ndimage import binary_dilation\n",
    "\n",
    "# Load the binary volume\n",
    "binary_volume = tiff.imread(\"C:/Users/nerea/Documents/MasterDTU/SpacialCourse_Fall24/specialCourse_fall24/outputs/skeleleton_clean_x20_th5_UNET.tif\")\n",
    "# Print the size of the volume\n",
    "print(f'Size of the volume is: {binary_volume.shape}')\n",
    "\n",
    "# Define the structuring element for dilation (3x3x3 cube in this case)\n",
    "structuring_element = np.ones((3, 3, 3), dtype=np.uint8)\n",
    "\n",
    "# Apply binary dilation\n",
    "dilated_volume = binary_dilation(binary_volume, structure=structuring_element)\n",
    "\n",
    "# Save the dilated volume back to a TIFF file\n",
    "output_path = \"C:/Users/nerea/Documents/MasterDTU/SpacialCourse_Fall24/specialCourse_fall24/outputs/dilated_volume_UNET.tif\"\n",
    "tiff.imwrite(output_path, dilated_volume.astype(np.uint8))  # Save as uint8\n",
    "print(f\"Dilated volume saved to {output_path}\")\n",
    "\n"
   ]
  },
  {
   "cell_type": "code",
   "execution_count": 8,
   "metadata": {},
   "outputs": [
    {
     "name": "stdout",
     "output_type": "stream",
     "text": [
      "Number of branch type 0: 28\n",
      "Number of branch type 1: 79\n",
      "Number of branch type 2: 149\n",
      "Number of branch type 3: 0\n",
      "Dilated volume saved to C:/Users/nerea/Documents/MasterDTU/SpacialCourse_Fall24/specialCourse_fall24/outputs/dilated_volume_skeleton_UNET.tif\n"
     ]
    }
   ],
   "source": [
    "dilated_skeleton = skeletonize(dilated_volume)\n",
    "print_branches(dilated_skeleton)\n",
    "\n",
    "output_path = \"C:/Users/nerea/Documents/MasterDTU/SpacialCourse_Fall24/specialCourse_fall24/outputs/dilated_volume_skeleton_UNET.tif\"\n",
    "tiff.imwrite(output_path, dilated_skeleton.astype(np.uint8))  # Save as uint8\n",
    "print(f\"Dilated volume saved to {output_path}\")"
   ]
  },
  {
   "cell_type": "code",
   "execution_count": null,
   "metadata": {},
   "outputs": [],
   "source": []
  }
 ],
 "metadata": {
  "kernelspec": {
   "display_name": "SCenv",
   "language": "python",
   "name": "python3"
  },
  "language_info": {
   "codemirror_mode": {
    "name": "ipython",
    "version": 3
   },
   "file_extension": ".py",
   "mimetype": "text/x-python",
   "name": "python",
   "nbconvert_exporter": "python",
   "pygments_lexer": "ipython3",
   "version": "3.11.10"
  }
 },
 "nbformat": 4,
 "nbformat_minor": 2
}
