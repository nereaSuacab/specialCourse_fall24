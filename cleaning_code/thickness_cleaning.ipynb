{
 "cells": [
  {
   "cell_type": "code",
   "execution_count": 1,
   "metadata": {},
   "outputs": [
    {
     "name": "stdout",
     "output_type": "stream",
     "text": [
      "13.3.0\n"
     ]
    }
   ],
   "source": [
    "import numpy as np\n",
    "import cupy as cp\n",
    "print(cp.__version__)\n",
    "import tifffile as tiff\n",
    "from skimage.morphology import skeletonize  # Import for skeletonization\n",
    "from skan import Skeleton, summarize\n",
    "from joblib import Parallel, delayed\n",
    "import sys\n",
    "from ltedt import local_thickness"
   ]
  },
  {
   "cell_type": "code",
   "execution_count": 2,
   "metadata": {},
   "outputs": [
    {
     "name": "stdout",
     "output_type": "stream",
     "text": [
      "Size of the volume is: (1035, 1706, 1510)\n"
     ]
    }
   ],
   "source": [
    "binary_volume = tiff.imread(\"/zhome/57/0/203104/specialCourse_fall24/outputs/output_volume.tif\")\n",
    "# binary_volume = tiff.imread(\"C:/Users/nerea/Documents/MasterDTU/SpacialCourse_Fall24/specialCourse_fall24/outputs/output_volume.tif\")\n",
    "# Get the size of the volume\n",
    "print(f'Size of the volume is: {binary_volume.shape}')"
   ]
  },
  {
   "cell_type": "code",
   "execution_count": 3,
   "metadata": {},
   "outputs": [],
   "source": [
    "# Cut the volume in a smaller part\n",
    "binary_volume_bottom_part = binary_volume[300:500,600:800,200:400]\n",
    "\n",
    "# output_path = 'C:/Users/nerea/Documents/MasterDTU/SpacialCourse_Fall24/specialCourse_fall24/outputs/output_volume_smaller.tif'\n",
    "output_path = '/zhome/57/0/203104/specialCourse_fall24/outputs/output_volume_smaller.tif'\n",
    "tiff.imwrite(output_path, binary_volume_bottom_part)"
   ]
  },
  {
   "cell_type": "code",
   "execution_count": 4,
   "metadata": {},
   "outputs": [],
   "source": [
    "smaller_skeleton = skeletonize(binary_volume_bottom_part)\n",
    "\n",
    "# binarize the skeleton\n",
    "smaller_skeleton = np.where(smaller_skeleton == True, 1, 0)\n",
    "\n",
    "smaller_skeleton = smaller_skeleton.astype(np.uint8)\n",
    "\n",
    "\n",
    "# output_path = 'C:/Users/nerea/Documents/MasterDTU/SpacialCourse_Fall24/specialCourse_fall24/outputs/output_volume_smaller_skeleton.tif'\n",
    "output_path = '/zhome/57/0/203104/specialCourse_fall24/outputs/output_volume_smaller_skeleton.tif'\n",
    "tiff.imwrite(output_path, smaller_skeleton)"
   ]
  },
  {
   "cell_type": "code",
   "execution_count": 5,
   "metadata": {},
   "outputs": [],
   "source": [
    "# Implement thickness with cuda\n",
    "thickness = local_thickness(binary_volume_bottom_part, implementation=\"cupy\")\n"
   ]
  },
  {
   "cell_type": "code",
   "execution_count": 6,
   "metadata": {},
   "outputs": [
    {
     "name": "stdout",
     "output_type": "stream",
     "text": [
      "Max distance in thickness map: 6\n"
     ]
    }
   ],
   "source": [
    "# Skeleton mask\n",
    "thickness_map = thickness*smaller_skeleton\n",
    "\n",
    "\n",
    "# Calcular el valor máximo en thickness_map, excluyendo los ceros\n",
    "max_distance = np.max(thickness_map[thickness_map > 0])\n",
    "\n",
    "print(f\"Max distance in thickness map: {max_distance}\")"
   ]
  },
  {
   "cell_type": "code",
   "execution_count": 7,
   "metadata": {},
   "outputs": [
    {
     "name": "stderr",
     "output_type": "stream",
     "text": [
      "/tmp/ipykernel_1010945/3061349273.py:2: VisibleDeprecationWarning: separator in column name will change to _ in version 0.13; to silence this warning, use `separator='-'` to maintain current behavior and use `separator='_'` to switch to the new default behavior.\n",
      "  principal_branch_data = summarize(principal_skel)\n"
     ]
    },
    {
     "name": "stdout",
     "output_type": "stream",
     "text": [
      "Number of branch type 0: 0\n",
      "Number of branch type 1: 67\n",
      "Number of branch type 2: 64\n",
      "Number of branch type 3: 0\n"
     ]
    }
   ],
   "source": [
    "principal_skel = Skeleton(smaller_skeleton)\n",
    "principal_branch_data = summarize(principal_skel)\n",
    "\n",
    "branch_type_0 = principal_branch_data[principal_branch_data['branch-type'] == 0]\n",
    "branch_type_1 = principal_branch_data[principal_branch_data['branch-type'] == 1]\n",
    "branch_type_2 = principal_branch_data[principal_branch_data['branch-type'] == 2]\n",
    "branch_type_3 = principal_branch_data[principal_branch_data['branch-type'] == 3]\n",
    "\n",
    "print(f\"Number of branch type 0: {len(branch_type_0)}\")\n",
    "print(f\"Number of branch type 1: {len(branch_type_1)}\")\n",
    "print(f\"Number of branch type 2: {len(branch_type_2)}\")\n",
    "print(f\"Number of branch type 3: {len(branch_type_3)}\")\n"
   ]
  },
  {
   "cell_type": "markdown",
   "metadata": {},
   "source": [
    "## Branch 1 type delete 40 pixels length"
   ]
  },
  {
   "cell_type": "code",
   "execution_count": 8,
   "metadata": {},
   "outputs": [],
   "source": [
    "import numpy as np\n",
    "\n",
    "def neighbors(coord):\n",
    "    x, y, z = coord\n",
    "    return [\n",
    "        # 6 primary (axis-aligned) neighbors\n",
    "        (x.item() + 1, y.item(), z.item()), (x.item() - 1, y.item(), z.item()), \n",
    "        (x.item(), y.item() + 1, z.item()), (x.item(), y.item() - 1, z.item()),\n",
    "        (x.item(), y.item(), z.item() + 1), (x.item(), y.item(), z.item() - 1),\n",
    "        \n",
    "        # 12 diagonal neighbors (changing two axes)\n",
    "        (x.item() + 1, y.item() + 1, z.item()), (x.item() - 1, y.item() - 1, z.item()),\n",
    "        (x.item() + 1, y.item(), z.item() + 1), (x.item() - 1, y.item(), z.item() - 1),\n",
    "        (x.item(), y.item() + 1, z.item() + 1), (x.item(), y.item() - 1, z.item() - 1),\n",
    "        (x.item() + 1, y.item() - 1, z.item()), (x.item() - 1, y.item() + 1, z.item()),\n",
    "        (x.item() + 1, y.item(), z.item() - 1), (x.item() - 1, y.item(), z.item() + 1),\n",
    "        (x.item(), y.item() + 1, z.item() - 1), (x.item(), y.item() - 1, z.item() + 1)\n",
    "    ]\n",
    "\n",
    "# Define the is_junction_point function to identify junction points\n",
    "def is_junction_point(coord, skeleton):\n",
    "    neighboring_coords = neighbors(coord)\n",
    "    counter = 0\n",
    "    for neigh in neighboring_coords:\n",
    "        if skeleton[neigh[0], neigh[1], neigh[2]].item() > 0:\n",
    "            counter = counter + 1\n",
    "    \n",
    "    if counter > 2:\n",
    "        return True\n",
    "    else:\n",
    "        return False\n",
    "\n",
    "    # skeleton_neighbors = sum([skeleton[tuple(neigh)] > 0 for neigh in neighboring_coords])\n",
    "    # return skeleton_neighbors.item() > 2  # A junction point has more than 2 neighbors\n",
    "\n",
    "# Define the main function to remove branches of type 1 based on the criteria\n",
    "def remove_branches(skeleton, branch_data, skel, thickness_map, length_threshold, thickness_threshold):\n",
    "    \"\"\"\n",
    "    Removes branches of type 1 from the skeleton based on length and thickness criteria,\n",
    "    while preserving junction points.\n",
    "    \n",
    "    Parameters:\n",
    "    skeleton (np.array): The 3D skeleton array to clean.\n",
    "    branch_data (pd.DataFrame): DataFrame with branch information including branch type and distance.\n",
    "    skel (Skeleton): Skeleton object to access branch coordinates.\n",
    "    thickness_map (np.array): Array containing thickness values for each voxel.\n",
    "    length_threshold (float): Maximum length for branches to consider for deletion.\n",
    "    thickness_threshold (float): Minimum thickness for branches to consider for deletion.\n",
    "    \n",
    "    Returns:\n",
    "    np.array: A cleaned version of the skeleton with specified branches removed.\n",
    "    \"\"\"\n",
    "    # Copy the skeleton to avoid modifying the original\n",
    "    skeleton_cleaned = np.copy(skeleton)\n",
    "    \n",
    "    # Iterate over each branch\n",
    "    for branch_id in branch_data.index:\n",
    "        # Only process branches of type 1\n",
    "        if branch_data.loc[branch_id, 'branch-type'] == 1:\n",
    "            branch_length = branch_data.loc[branch_id, 'branch-distance']\n",
    "            \n",
    "            # Check length condition\n",
    "            if branch_length <= length_threshold:\n",
    "                coordinates = skel.path_coordinates(branch_id)\n",
    "                \n",
    "                thickness_values = []\n",
    "                for coord in coordinates:\n",
    "                    thick_val = thickness_map[coord[0], coord[1], coord[2]]\n",
    "                    thickness_values.append(thick_val.item())\n",
    "\n",
    "                # Check thickness condition\n",
    "                if min(thickness_values) <= thickness_threshold:\n",
    "                    # Remove the branch, skipping junction points\n",
    "                    for coord in coordinates:\n",
    "                        # rounded_coord = tuple(np.round(coord).astype(int))\n",
    "                        if not is_junction_point(coord, skeleton):\n",
    "                            skeleton_cleaned[coord[0], coord[1], coord[2]] = 0\n",
    "    \n",
    "    return skeleton_cleaned\n",
    "\n",
    "\n",
    "def print_branches(skeleton_cleaned):\n",
    "    skel = Skeleton(skeleton_cleaned)\n",
    "    branch_data = summarize(skel)\n",
    "\n",
    "    branch_type_0 = branch_data[branch_data['branch-type'] == 0]\n",
    "    branch_type_1 = branch_data[branch_data['branch-type'] == 1]\n",
    "    branch_type_2 = branch_data[branch_data['branch-type'] == 2]\n",
    "    branch_type_3 = branch_data[branch_data['branch-type'] == 3]\n",
    "\n",
    "    print(f\"Number of branch type 0: {len(branch_type_0)}\")\n",
    "    print(f\"Number of branch type 1: {len(branch_type_1)}\")\n",
    "    print(f\"Number of branch type 2: {len(branch_type_2)}\")\n",
    "    print(f\"Number of branch type 3: {len(branch_type_3)}\")\n"
   ]
  },
  {
   "cell_type": "code",
   "execution_count": 9,
   "metadata": {},
   "outputs": [
    {
     "name": "stdout",
     "output_type": "stream",
     "text": [
      "Number of branch type 0: 6\n",
      "Number of branch type 1: 31\n",
      "Number of branch type 2: 29\n",
      "Number of branch type 3: 2\n"
     ]
    },
    {
     "name": "stderr",
     "output_type": "stream",
     "text": [
      "/tmp/ipykernel_1010945/4125157522.py:84: VisibleDeprecationWarning: separator in column name will change to _ in version 0.13; to silence this warning, use `separator='-'` to maintain current behavior and use `separator='_'` to switch to the new default behavior.\n",
      "  branch_data = summarize(skel)\n"
     ]
    }
   ],
   "source": [
    "x = 40\n",
    "thickness_threshold = 4\n",
    "\n",
    "skeleleton_clean_x40_th4 = remove_branches(skeleton=smaller_skeleton, \n",
    "                                           branch_data=principal_branch_data, \n",
    "                                           skel=principal_skel, \n",
    "                                           thickness_map=thickness_map, \n",
    "                                           length_threshold=x, \n",
    "                                           thickness_threshold=thickness_threshold)\n",
    "print_branches(skeleleton_clean_x40_th4)\n",
    "\n",
    "output_path_cleaned = '/zhome/57/0/203104/specialCourse_fall24/outputs/skeleleton_clean_x40_th4.tif'\n",
    "tiff.imwrite(output_path_cleaned, skeleleton_clean_x40_th4)"
   ]
  },
  {
   "cell_type": "code",
   "execution_count": 10,
   "metadata": {},
   "outputs": [
    {
     "name": "stdout",
     "output_type": "stream",
     "text": [
      "Number of branch type 0: 11\n",
      "Number of branch type 1: 27\n",
      "Number of branch type 2: 17\n",
      "Number of branch type 3: 1\n"
     ]
    },
    {
     "name": "stderr",
     "output_type": "stream",
     "text": [
      "/tmp/ipykernel_1010945/4125157522.py:84: VisibleDeprecationWarning: separator in column name will change to _ in version 0.13; to silence this warning, use `separator='-'` to maintain current behavior and use `separator='_'` to switch to the new default behavior.\n",
      "  branch_data = summarize(skel)\n"
     ]
    }
   ],
   "source": [
    "x = 20\n",
    "thickness_threshold = 5\n",
    "\n",
    "skeleleton_clean_x20_th5 = remove_branches(skeleton=skeleleton_clean_x40_th4, \n",
    "                                           branch_data=principal_branch_data, \n",
    "                                           skel=principal_skel, \n",
    "                                           thickness_map=thickness_map, \n",
    "                                           length_threshold=x, \n",
    "                                           thickness_threshold=thickness_threshold)\n",
    "print_branches(skeleleton_clean_x20_th5)\n",
    "\n",
    "output_path_cleaned = '/zhome/57/0/203104/specialCourse_fall24/outputs/skeleleton_clean_x20_th5.tif'\n",
    "tiff.imwrite(output_path_cleaned, skeleleton_clean_x20_th5)"
   ]
  },
  {
   "cell_type": "code",
   "execution_count": 11,
   "metadata": {},
   "outputs": [
    {
     "name": "stdout",
     "output_type": "stream",
     "text": [
      "48.35873884767937\n",
      "12.949382989376325\n",
      "1.4142135623730951\n",
      "3.82842712474619\n",
      "1.7320508075688772\n",
      "3.82842712474619\n",
      "7.706742302257039\n",
      "21.070338854006465\n",
      "2.8284271247461903\n",
      "11.217332181807448\n",
      "2.8284271247461903\n"
     ]
    },
    {
     "name": "stderr",
     "output_type": "stream",
     "text": [
      "/tmp/ipykernel_1010945/2796071380.py:2: VisibleDeprecationWarning: separator in column name will change to _ in version 0.13; to silence this warning, use `separator='-'` to maintain current behavior and use `separator='_'` to switch to the new default behavior.\n",
      "  branch_data = summarize(skel)\n"
     ]
    }
   ],
   "source": [
    "skel = Skeleton(skeleleton_clean_x20_th5)\n",
    "branch_data = summarize(skel)\n",
    "\n",
    "for branch_id in branch_data.index:\n",
    "    if branch_data.loc[branch_id, 'branch-type'] == 0:\n",
    "        branch_length = branch_data.loc[branch_id, 'branch-distance']\n",
    "        print(branch_length)"
   ]
  },
  {
   "cell_type": "code",
   "execution_count": 12,
   "metadata": {},
   "outputs": [
    {
     "name": "stdout",
     "output_type": "stream",
     "text": [
      "22\n"
     ]
    }
   ],
   "source": [
    "import cc3d\n",
    "import numpy as np\n",
    "\n",
    "labels_out = cc3d.connected_components(skeleleton_clean_x20_th5)\n",
    "labels_out, N = cc3d.connected_components(skeleleton_clean_x20_th5, return_N=True)\n",
    "print(N)"
   ]
  },
  {
   "cell_type": "code",
   "execution_count": 13,
   "metadata": {},
   "outputs": [],
   "source": [
    "# Initialize a dictionary to map each branch ID to its corresponding blob(s)\n",
    "branch_blob_mapping = {}\n",
    "pixel_blob_mapping = np.zeros_like(labels_out, dtype=int)\n",
    "\n",
    "# Step 2: For each branch, get the coordinates and map them to the corresponding blob label(s)\n",
    "for branch_id in branch_data.index:\n",
    "    # Get the coordinates of the current branch in the skeleton structure\n",
    "    coordinates = skel.path_coordinates(branch_id)\n",
    "    \n",
    "    # Fetch the labels at those coordinates from the labels_out array\n",
    "    branch_labels = labels_out[coordinates[:, 0], coordinates[:, 1], coordinates[:, 2]]\n",
    "    \n",
    "    # Find the unique label(s) associated with this branch\n",
    "    unique_blob_labels = np.unique(branch_labels)\n",
    "    \n",
    "    # Store the unique label(s) in the branch_blob_mapping\n",
    "    if len(unique_blob_labels) > 1:\n",
    "        branch_blob_mapping[branch_id] = unique_blob_labels\n",
    "    else:\n",
    "        branch_blob_mapping[branch_id] = unique_blob_labels[0]\n",
    "    \n",
    "    # Step 3: Map each pixel in this branch to its corresponding blob label(s)\n",
    "    for i, coord in enumerate(coordinates):\n",
    "        pixel_blob_mapping[tuple(coord)] = branch_labels[i]\n"
   ]
  },
  {
   "cell_type": "code",
   "execution_count": 14,
   "metadata": {},
   "outputs": [],
   "source": [
    "def bresenham_line_3d(p1, p2):\n",
    "    # Implementa el algoritmo de Bresenham en 3D para trazar una línea entre dos puntos\n",
    "    x1, y1, z1 = p1\n",
    "    x2, y2, z2 = p2\n",
    "    points = []\n",
    "\n",
    "    dx = abs(x2 - x1)\n",
    "    dy = abs(y2 - y1)\n",
    "    dz = abs(z2 - z1)\n",
    "    sx = 1 if x1 < x2 else -1\n",
    "    sy = 1 if y1 < y2 else -1\n",
    "    sz = 1 if z1 < z2 else -1\n",
    "    err = dx - dy - dz\n",
    "\n",
    "    while True:\n",
    "        points.append((x1, y1, z1))\n",
    "        if (x1, y1, z1) == (x2, y2, z2):\n",
    "            break\n",
    "        e2 = err * 2\n",
    "        if e2 > -dy - dz:\n",
    "            err -= dy\n",
    "            x1 += sx\n",
    "        if e2 < dx - dz:\n",
    "            err += dx\n",
    "            y1 += sy\n",
    "        if e2 < dx - dy:\n",
    "            err += dz\n",
    "            z1 += sz\n",
    "    return points\n"
   ]
  },
  {
   "cell_type": "code",
   "execution_count": 15,
   "metadata": {},
   "outputs": [],
   "source": [
    "import numpy as np\n",
    "from scipy.spatial.distance import cdist\n",
    "\n",
    "# Paso 1: Calcular centroides de los blobs en 3D\n",
    "def calculate_centroid(blob_labels, labels_out):\n",
    "    centroids = {}\n",
    "    for blob in np.unique(blob_labels):\n",
    "        # Encuentra las coordenadas de todos los píxeles de ese blob\n",
    "        coords = np.array(np.where(labels_out == blob)).T\n",
    "        # Calcula el centroide como el promedio de las coordenadas\n",
    "        centroid = np.mean(coords, axis=0)\n",
    "        centroids[blob] = centroid\n",
    "    return centroids\n",
    "\n",
    "# Paso 2: Encontrar los blobs más cercanos en 3D\n",
    "def find_closest_blobs(centroids):\n",
    "    blobs = list(centroids.keys())\n",
    "    distances = cdist([centroids[blob] for blob in blobs], [centroids[blob] for blob in blobs])\n",
    "    np.fill_diagonal(distances, np.inf)  # Evitar que los blobs se conecten consigo mismos\n",
    "    closest_pairs = np.unravel_index(np.argmin(distances), distances.shape)\n",
    "    return blobs[closest_pairs[0]], blobs[closest_pairs[1]]\n",
    "\n",
    "# Paso 3: Conectar los blobs más cercanos con una línea recta 3D\n",
    "def connect_blobs_3d(labels_out, pixel_blob_mapping):\n",
    "    # Calcular centroides de todos los blobs\n",
    "    centroids = calculate_centroid(labels_out, labels_out)\n",
    "\n",
    "    # Encontrar el par de blobs más cercanos\n",
    "    blob1, blob2 = find_closest_blobs(centroids)\n",
    "\n",
    "    # Encuentra un punto en cada blob\n",
    "    coords_blob1 = np.array(np.where(labels_out == blob1)).T\n",
    "    coords_blob2 = np.array(np.where(labels_out == blob2)).T\n",
    "\n",
    "    # Seleccionar el primer píxel de cada blob\n",
    "    p1 = coords_blob1[0]\n",
    "    p2 = coords_blob2[0]\n",
    "\n",
    "    # Calcular la línea de Bresenham entre los puntos (en 3D)\n",
    "    line_points = bresenham_line_3d(p1, p2)\n",
    "\n",
    "    # Conectar los blobs en el mapeo de píxeles\n",
    "    for point in line_points:\n",
    "        pixel_blob_mapping[tuple(point)] = blob1  # O puedes usar una mezcla de ambos blobs\n"
   ]
  },
  {
   "cell_type": "code",
   "execution_count": 17,
   "metadata": {},
   "outputs": [],
   "source": [
    "connect_blobs_3d(labels_out, pixel_blob_mapping)"
   ]
  },
  {
   "cell_type": "code",
   "execution_count": null,
   "metadata": {},
   "outputs": [],
   "source": []
  },
  {
   "cell_type": "markdown",
   "metadata": {},
   "source": [
    "## Codigo pasado!"
   ]
  },
  {
   "cell_type": "code",
   "execution_count": null,
   "metadata": {},
   "outputs": [
    {
     "name": "stdout",
     "output_type": "stream",
     "text": [
      "El esqueleto ha sido limpiado y guardado en el archivo.\n"
     ]
    }
   ],
   "source": [
    "x = 40  # Número mínimo de píxeles de la rama\n",
    "thickness_threshold = 4  # Umbral de distancia en el thickness_map\n",
    "\n",
    "\n",
    "# Initialize mask for cleaning only type 1 branches that meet the criteria\n",
    "skeleton_cleaned_2 = np.copy(smaller_skeleton)\n",
    "\n",
    "# Loop through each branch of type 1 to assess whether it should be deleted\n",
    "for branch_id in branch_data.index:\n",
    "    # Check if this branch is of type 1\n",
    "    if branch_data.loc[branch_id, 'branch-type'] == 1:\n",
    "        # Get branch length\n",
    "        branch_length = branch_data.loc[branch_id, 'branch-distance']\n",
    "        \n",
    "        # Only consider branches that are shorter than the length threshold\n",
    "        if branch_length < x:\n",
    "            # Get the coordinates of each voxel in this branch\n",
    "            coordinates = skel.path_coordinates(branch_id)\n",
    "            \n",
    "            # Check the thickness values at these coordinates in thickness_map\n",
    "            thickness_values = [thickness_map[tuple(np.round(coord).astype(int))] for coord in coordinates]\n",
    "            \n",
    "            # If the minimum thickness in this branch is below the threshold, mark for deletion\n",
    "            if min(thickness_values) < thickness_threshold:\n",
    "                # Set the corresponding pixels in the skeleton to 0\n",
    "                for coord in coordinates:\n",
    "                    skeleton_cleaned_2[tuple(np.round(coord).astype(int))] = 0  # Ensure coordinates are integers\n",
    "\n",
    "# Ensure skeleton_cleaned is in a compatible data type for TIFF files\n",
    "skeleton_cleaned_2 = skeleton_cleaned_2.astype(np.uint8)\n",
    "\n",
    "# Save the cleaned skeleton to a file\n",
    "output_path_cleaned = '/zhome/57/0/203104/specialCourse_fall24/outputs/smaller_skeleton_cleaned_2.tif'\n",
    "tiff.imwrite(output_path_cleaned, skeleton_cleaned_2)\n",
    "\n",
    "print(\"El esqueleto ha sido limpiado y guardado en el archivo.\")\n"
   ]
  },
  {
   "cell_type": "code",
   "execution_count": null,
   "metadata": {},
   "outputs": [
    {
     "name": "stdout",
     "output_type": "stream",
     "text": [
      "Number of branch type 0: 6\n",
      "Number of branch type 1: 59\n",
      "Number of branch type 2: 50\n",
      "Number of branch type 3: 0\n"
     ]
    },
    {
     "name": "stderr",
     "output_type": "stream",
     "text": [
      "/tmp/ipykernel_2882629/1015276533.py:2: VisibleDeprecationWarning: separator in column name will change to _ in version 0.13; to silence this warning, use `separator='-'` to maintain current behavior and use `separator='_'` to switch to the new default behavior.\n",
      "  branch_data = summarize(skel)\n"
     ]
    }
   ],
   "source": [
    "skel = Skeleton(skeleton_cleaned_2)\n",
    "branch_data = summarize(skel)\n",
    "\n",
    "branch_type_0 = branch_data[branch_data['branch-type'] == 0]\n",
    "branch_type_1 = branch_data[branch_data['branch-type'] == 1]\n",
    "branch_type_2 = branch_data[branch_data['branch-type'] == 2]\n",
    "branch_type_3 = branch_data[branch_data['branch-type'] == 3]\n",
    "\n",
    "print(f\"Number of branch type 0: {len(branch_type_0)}\")\n",
    "print(f\"Number of branch type 1: {len(branch_type_1)}\")\n",
    "print(f\"Number of branch type 2: {len(branch_type_2)}\")\n",
    "print(f\"Number of branch type 3: {len(branch_type_3)}\")\n"
   ]
  },
  {
   "cell_type": "code",
   "execution_count": null,
   "metadata": {},
   "outputs": [
    {
     "name": "stdout",
     "output_type": "stream",
     "text": [
      "El esqueleto ha sido limpiado y guardado en el archivo.\n"
     ]
    }
   ],
   "source": [
    "x = 60  # Número mínimo de píxeles de la rama\n",
    "thickness_threshold = 6  # Umbral de distancia en el thickness_map\n",
    "\n",
    "\n",
    "# Initialize mask for cleaning only type 1 branches that meet the criteria\n",
    "skeleton_cleaned_3 = np.copy(smaller_skeleton)\n",
    "\n",
    "# Loop through each branch of type 1 to assess whether it should be deleted\n",
    "for branch_id in branch_data.index:\n",
    "    # Check if this branch is of type 1\n",
    "    if branch_data.loc[branch_id, 'branch-type'] == 1:\n",
    "        # Get branch length\n",
    "        branch_length = branch_data.loc[branch_id, 'branch-distance']\n",
    "        \n",
    "        # Only consider branches that are shorter than the length threshold\n",
    "        if branch_length < x:\n",
    "            # Get the coordinates of each voxel in this branch\n",
    "            coordinates = skel.path_coordinates(branch_id)\n",
    "            \n",
    "            # Check the thickness values at these coordinates in thickness_map\n",
    "            thickness_values = [thickness_map[tuple(np.round(coord).astype(int))] for coord in coordinates]\n",
    "            \n",
    "            # If the minimum thickness in this branch is below the threshold, mark for deletion\n",
    "            if min(thickness_values) < thickness_threshold:\n",
    "                # Set the corresponding pixels in the skeleton to 0\n",
    "                for coord in coordinates:\n",
    "                    skeleton_cleaned_3[tuple(np.round(coord).astype(int))] = 0  # Ensure coordinates are integers\n",
    "\n",
    "# Ensure skeleton_cleaned is in a compatible data type for TIFF files\n",
    "skeleton_cleaned_3 = skeleton_cleaned_3.astype(np.uint8)\n",
    "\n",
    "# Save the cleaned skeleton to a file\n",
    "output_path_cleaned = '/zhome/57/0/203104/specialCourse_fall24/outputs/smaller_skeleton_cleaned_3.tif'\n",
    "tiff.imwrite(output_path_cleaned, skeleton_cleaned_3)\n",
    "\n",
    "print(\"El esqueleto ha sido limpiado y guardado en el archivo.\")\n"
   ]
  },
  {
   "cell_type": "code",
   "execution_count": null,
   "metadata": {},
   "outputs": [
    {
     "name": "stdout",
     "output_type": "stream",
     "text": [
      "Number of branch type 0: 16\n",
      "Number of branch type 1: 29\n",
      "Number of branch type 2: 17\n",
      "Number of branch type 3: 0\n"
     ]
    },
    {
     "name": "stderr",
     "output_type": "stream",
     "text": [
      "/tmp/ipykernel_2882629/1867985952.py:2: VisibleDeprecationWarning: separator in column name will change to _ in version 0.13; to silence this warning, use `separator='-'` to maintain current behavior and use `separator='_'` to switch to the new default behavior.\n",
      "  branch_data = summarize(skel)\n"
     ]
    }
   ],
   "source": [
    "skel = Skeleton(skeleton_cleaned_3)\n",
    "branch_data = summarize(skel)\n",
    "\n",
    "branch_type_0 = branch_data[branch_data['branch-type'] == 0]\n",
    "branch_type_1 = branch_data[branch_data['branch-type'] == 1]\n",
    "branch_type_2 = branch_data[branch_data['branch-type'] == 2]\n",
    "branch_type_3 = branch_data[branch_data['branch-type'] == 3]\n",
    "\n",
    "print(f\"Number of branch type 0: {len(branch_type_0)}\")\n",
    "print(f\"Number of branch type 1: {len(branch_type_1)}\")\n",
    "print(f\"Number of branch type 2: {len(branch_type_2)}\")\n",
    "print(f\"Number of branch type 3: {len(branch_type_3)}\")\n"
   ]
  },
  {
   "cell_type": "code",
   "execution_count": null,
   "metadata": {},
   "outputs": [
    {
     "name": "stdout",
     "output_type": "stream",
     "text": [
      "El esqueleto ha sido limpiado y guardado en el archivo.\n"
     ]
    }
   ],
   "source": [
    "x = 40  # Número mínimo de píxeles de la rama\n",
    "thickness_threshold = 6  # Umbral de distancia en el thickness_map\n",
    "\n",
    "\n",
    "# Initialize mask for cleaning only type 1 branches that meet the criteria\n",
    "skeleton_cleaned_4 = np.copy(smaller_skeleton)\n",
    "\n",
    "# Loop through each branch of type 1 to assess whether it should be deleted\n",
    "for branch_id in branch_data.index:\n",
    "    # Check if this branch is of type 1\n",
    "    if branch_data.loc[branch_id, 'branch-type'] == 1:\n",
    "        # Get branch length\n",
    "        branch_length = branch_data.loc[branch_id, 'branch-distance']\n",
    "        \n",
    "        # Only consider branches that are shorter than the length threshold\n",
    "        if branch_length < x:\n",
    "            # Get the coordinates of each voxel in this branch\n",
    "            coordinates = skel.path_coordinates(branch_id)\n",
    "            \n",
    "            # Check the thickness values at these coordinates in thickness_map\n",
    "            thickness_values = [thickness_map[tuple(np.round(coord).astype(int))] for coord in coordinates]\n",
    "            \n",
    "            # If the minimum thickness in this branch is below the threshold, mark for deletion\n",
    "            if min(thickness_values) < thickness_threshold:\n",
    "                # Set the corresponding pixels in the skeleton to 0\n",
    "                for coord in coordinates:\n",
    "                    skeleton_cleaned_4[tuple(np.round(coord).astype(int))] = 0  # Ensure coordinates are integers\n",
    "\n",
    "# Ensure skeleton_cleaned is in a compatible data type for TIFF files\n",
    "skeleton_cleaned_4 = skeleton_cleaned_4.astype(np.uint8)\n",
    "\n",
    "# Save the cleaned skeleton to a file\n",
    "output_path_cleaned = '/zhome/57/0/203104/specialCourse_fall24/outputs/smaller_skeleton_cleaned_4.tif'\n",
    "tiff.imwrite(output_path_cleaned, skeleton_cleaned_4)\n",
    "\n",
    "print(\"El esqueleto ha sido limpiado y guardado en el archivo.\")\n"
   ]
  },
  {
   "cell_type": "code",
   "execution_count": null,
   "metadata": {},
   "outputs": [
    {
     "name": "stdout",
     "output_type": "stream",
     "text": [
      "Number of branch type 0: 11\n",
      "Number of branch type 1: 52\n",
      "Number of branch type 2: 34\n",
      "Number of branch type 3: 0\n"
     ]
    },
    {
     "name": "stderr",
     "output_type": "stream",
     "text": [
      "/tmp/ipykernel_2882629/3158189669.py:2: VisibleDeprecationWarning: separator in column name will change to _ in version 0.13; to silence this warning, use `separator='-'` to maintain current behavior and use `separator='_'` to switch to the new default behavior.\n",
      "  branch_data = summarize(skel)\n"
     ]
    }
   ],
   "source": [
    "skel = Skeleton(skeleton_cleaned_4)\n",
    "branch_data = summarize(skel)\n",
    "\n",
    "branch_type_0 = branch_data[branch_data['branch-type'] == 0]\n",
    "branch_type_1 = branch_data[branch_data['branch-type'] == 1]\n",
    "branch_type_2 = branch_data[branch_data['branch-type'] == 2]\n",
    "branch_type_3 = branch_data[branch_data['branch-type'] == 3]\n",
    "\n",
    "print(f\"Number of branch type 0: {len(branch_type_0)}\")\n",
    "print(f\"Number of branch type 1: {len(branch_type_1)}\")\n",
    "print(f\"Number of branch type 2: {len(branch_type_2)}\")\n",
    "print(f\"Number of branch type 3: {len(branch_type_3)}\")"
   ]
  },
  {
   "cell_type": "code",
   "execution_count": null,
   "metadata": {},
   "outputs": [
    {
     "name": "stdout",
     "output_type": "stream",
     "text": [
      "El esqueleto ha sido limpiado y guardado en el archivo.\n"
     ]
    }
   ],
   "source": [
    "x = 40  # Número mínimo de píxeles de la rama\n",
    "thickness_threshold = 5  # Umbral de distancia en el thickness_map\n",
    "\n",
    "\n",
    "# Initialize mask for cleaning only type 1 branches that meet the criteria\n",
    "skeleton_cleaned_5 = np.copy(smaller_skeleton)\n",
    "\n",
    "# Loop through each branch of type 1 to assess whether it should be deleted\n",
    "for branch_id in branch_data.index:\n",
    "    # Check if this branch is of type 1\n",
    "    if branch_data.loc[branch_id, 'branch-type'] == 1:\n",
    "        # Get branch length\n",
    "        branch_length = branch_data.loc[branch_id, 'branch-distance']\n",
    "        \n",
    "        # Only consider branches that are shorter than the length threshold\n",
    "        if branch_length < x:\n",
    "            # Get the coordinates of each voxel in this branch\n",
    "            coordinates = skel.path_coordinates(branch_id)\n",
    "            \n",
    "            # Check the thickness values at these coordinates in thickness_map\n",
    "            thickness_values = [thickness_map[tuple(np.round(coord).astype(int))] for coord in coordinates]\n",
    "            \n",
    "            # If the minimum thickness in this branch is below the threshold, mark for deletion\n",
    "            if min(thickness_values) < thickness_threshold:\n",
    "                # Set the corresponding pixels in the skeleton to 0\n",
    "                for coord in coordinates:\n",
    "                    skeleton_cleaned_5[tuple(np.round(coord).astype(int))] = 0  # Ensure coordinates are integers\n",
    "\n",
    "# Ensure skeleton_cleaned is in a compatible data type for TIFF files\n",
    "skeleton_cleaned_5 = skeleton_cleaned_5.astype(np.uint8)\n",
    "\n",
    "# Save the cleaned skeleton to a file\n",
    "output_path_cleaned = '/zhome/57/0/203104/specialCourse_fall24/outputs/smaller_skeleton_cleaned_5.tif'\n",
    "tiff.imwrite(output_path_cleaned, skeleton_cleaned_5)\n",
    "\n",
    "print(\"El esqueleto ha sido limpiado y guardado en el archivo.\")\n"
   ]
  },
  {
   "cell_type": "code",
   "execution_count": null,
   "metadata": {},
   "outputs": [
    {
     "name": "stdout",
     "output_type": "stream",
     "text": [
      "Number of branch type 0: 17\n",
      "Number of branch type 1: 36\n",
      "Number of branch type 2: 21\n",
      "Number of branch type 3: 0\n"
     ]
    },
    {
     "name": "stderr",
     "output_type": "stream",
     "text": [
      "/tmp/ipykernel_2882629/2138058238.py:2: VisibleDeprecationWarning: separator in column name will change to _ in version 0.13; to silence this warning, use `separator='-'` to maintain current behavior and use `separator='_'` to switch to the new default behavior.\n",
      "  branch_data = summarize(skel)\n"
     ]
    }
   ],
   "source": [
    "skel = Skeleton(skeleton_cleaned_5)\n",
    "branch_data = summarize(skel)\n",
    "\n",
    "branch_type_0 = branch_data[branch_data['branch-type'] == 0]\n",
    "branch_type_1 = branch_data[branch_data['branch-type'] == 1]\n",
    "branch_type_2 = branch_data[branch_data['branch-type'] == 2]\n",
    "branch_type_3 = branch_data[branch_data['branch-type'] == 3]\n",
    "\n",
    "print(f\"Number of branch type 0: {len(branch_type_0)}\")\n",
    "print(f\"Number of branch type 1: {len(branch_type_1)}\")\n",
    "print(f\"Number of branch type 2: {len(branch_type_2)}\")\n",
    "print(f\"Number of branch type 3: {len(branch_type_3)}\")"
   ]
  },
  {
   "cell_type": "code",
   "execution_count": null,
   "metadata": {},
   "outputs": [],
   "source": []
  }
 ],
 "metadata": {
  "kernelspec": {
   "display_name": "Python 3 (ipykernel)",
   "language": "python",
   "name": "python3"
  },
  "language_info": {
   "codemirror_mode": {
    "name": "ipython",
    "version": 3
   },
   "file_extension": ".py",
   "mimetype": "text/x-python",
   "name": "python",
   "nbconvert_exporter": "python",
   "pygments_lexer": "ipython3",
   "version": "3.11.10"
  }
 },
 "nbformat": 4,
 "nbformat_minor": 2
}
