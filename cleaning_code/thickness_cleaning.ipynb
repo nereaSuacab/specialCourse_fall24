{
 "cells": [
  {
   "cell_type": "code",
   "execution_count": 1,
   "metadata": {
    "vscode": {
     "languageId": "python"
    }
   },
   "outputs": [],
   "source": [
    "import numpy as np\n",
    "import cupy as cp\n",
    "import tifffile as tiff\n",
    "from skimage.morphology import skeletonize  # Import for skeletonization\n",
    "from skan import Skeleton, summarize\n",
    "from joblib import Parallel, delayed\n",
    "import sys\n",
    "from ltedt import local_thickness"
   ]
  },
  {
   "cell_type": "code",
   "execution_count": 2,
   "metadata": {
    "vscode": {
     "languageId": "python"
    }
   },
   "outputs": [
    {
     "name": "stdout",
     "output_type": "stream",
     "text": [
      "Size of the volume is: (1035, 1706, 1510)\n"
     ]
    }
   ],
   "source": [
    "binary_volume = tiff.imread(\"/zhome/57/0/203104/specialCourse_fall24/outputs/output_volume.tif\")\n",
    "# binary_volume = tiff.imread(\"C:/Users/nerea/Documents/MasterDTU/SpacialCourse_Fall24/specialCourse_fall24/outputs/output_volume.tif\")\n",
    "# Get the size of the volume\n",
    "print(f'Size of the volume is: {binary_volume.shape}')"
   ]
  },
  {
   "cell_type": "code",
   "execution_count": 28,
   "metadata": {
    "vscode": {
     "languageId": "python"
    }
   },
   "outputs": [],
   "source": [
    "# Cut the volume in a smaller part\n",
    "binary_volume_bottom_part = binary_volume[300:500,600:800,200:400]\n",
    "\n",
    "# output_path = 'C:/Users/nerea/Documents/MasterDTU/SpacialCourse_Fall24/specialCourse_fall24/outputs/output_volume_smaller.tif'\n",
    "output_path = '/zhome/57/0/203104/specialCourse_fall24/outputs/output_volume_smaller.tif'\n",
    "tiff.imwrite(output_path, binary_volume_bottom_part)"
   ]
  },
  {
   "cell_type": "code",
   "execution_count": 32,
   "metadata": {
    "vscode": {
     "languageId": "python"
    }
   },
   "outputs": [],
   "source": [
    "smaller_skeleton = skeletonize(binary_volume_bottom_part)\n",
    "\n",
    "# binarize the skeleton\n",
    "smaller_skeleton = np.where(smaller_skeleton == True, 1, 0)\n",
    "\n",
    "# output_path = 'C:/Users/nerea/Documents/MasterDTU/SpacialCourse_Fall24/specialCourse_fall24/outputs/output_volume_smaller_skeleton.tif'\n",
    "output_path = '/zhome/57/0/203104/specialCourse_fall24/outputs/output_volume_smaller_skeleton.tif'\n",
    "tiff.imwrite(output_path, smaller_skeleton)"
   ]
  },
  {
   "cell_type": "code",
   "execution_count": null,
   "metadata": {
    "vscode": {
     "languageId": "python"
    }
   },
   "outputs": [],
   "source": [
    "# Implement thickness with cuda\n",
    "thickness = local_thickness(binary_volume_bottom_part, implementation=\"cupy\")\n"
   ]
  },
  {
   "cell_type": "code",
   "execution_count": null,
   "metadata": {
    "vscode": {
     "languageId": "python"
    }
   },
   "outputs": [
    {
     "name": "stdout",
     "output_type": "stream",
     "text": [
      "Max distance in thickness map: 6\n"
     ]
    }
   ],
   "source": [
    "# Skeleton mask\n",
    "thickness_map = thickness*smaller_skeleton\n",
    "\n",
    "\n",
    "# Calcular el valor máximo en thickness_map, excluyendo los ceros\n",
    "max_distance = np.max(thickness_map[thickness_map > 0])\n",
    "\n",
    "print(f\"Max distance in thickness map: {max_distance}\")"
   ]
  },
  {
   "cell_type": "code",
   "execution_count": null,
   "metadata": {
    "vscode": {
     "languageId": "python"
    }
   },
   "outputs": [
    {
     "name": "stdout",
     "output_type": "stream",
     "text": [
      "Number of branch type 0: 0\n",
      "Number of branch type 1: 67\n",
      "Number of branch type 2: 64\n",
      "Number of branch type 3: 0\n"
     ]
    },
    {
     "name": "stderr",
     "output_type": "stream",
     "text": [
      "/tmp/ipykernel_83189/891031782.py:2: VisibleDeprecationWarning: separator in column name will change to _ in version 0.13; to silence this warning, use `separator='-'` to maintain current behavior and use `separator='_'` to switch to the new default behavior.\n",
      "  branch_data = summarize(skel)\n"
     ]
    }
   ],
   "source": [
    "skel = Skeleton(smaller_skeleton)\n",
    "branch_data = summarize(skel)\n",
    "\n",
    "branch_type_0 = branch_data[branch_data['branch-type'] == 0]\n",
    "branch_type_1 = branch_data[branch_data['branch-type'] == 1]\n",
    "branch_type_2 = branch_data[branch_data['branch-type'] == 2]\n",
    "branch_type_3 = branch_data[branch_data['branch-type'] == 3]\n",
    "\n",
    "print(f\"Number of branch type 0: {len(branch_type_0)}\")\n",
    "print(f\"Number of branch type 1: {len(branch_type_1)}\")\n",
    "print(f\"Number of branch type 2: {len(branch_type_2)}\")\n",
    "print(f\"Number of branch type 3: {len(branch_type_3)}\")\n"
   ]
  },
  {
   "cell_type": "code",
   "execution_count": null,
   "metadata": {
    "vscode": {
     "languageId": "python"
    }
   },
   "outputs": [
    {
     "name": "stdout",
     "output_type": "stream",
     "text": [
      "   skeleton-id  node-id-src  node-id-dst  branch-distance  branch-type  \\\n",
      "0            0            2           47        49.772952            1   \n",
      "1            0           11           47        14.267220            1   \n",
      "2            0           42           65         8.292529            1   \n",
      "3            0           47           82        16.095647            2   \n",
      "4            0           52           65         6.974691            1   \n",
      "\n",
      "   mean-pixel-value  stdev-pixel-value  image-coord-src-0  image-coord-src-1  \\\n",
      "0               1.0                0.0                  0                180   \n",
      "1               1.0                0.0                  4                143   \n",
      "2               1.0                0.0                 13                130   \n",
      "3               1.0                0.0                 14                143   \n",
      "4               1.0                0.0                 16                128   \n",
      "\n",
      "   image-coord-src-2  image-coord-dst-0  image-coord-dst-1  image-coord-dst-2  \\\n",
      "0                  0                 14                143                 12   \n",
      "1                 19                 14                143                 12   \n",
      "2                 25                 19                130                 21   \n",
      "3                 12                 24                134                 15   \n",
      "4                 26                 19                130                 21   \n",
      "\n",
      "   coord-src-0  coord-src-1  coord-src-2  coord-dst-0  coord-dst-1  \\\n",
      "0            0          180            0           14          143   \n",
      "1            4          143           19           14          143   \n",
      "2           13          130           25           19          130   \n",
      "3           14          143           12           24          134   \n",
      "4           16          128           26           19          130   \n",
      "\n",
      "   coord-dst-2  euclidean-distance  \n",
      "0           12           41.340053  \n",
      "1           12           12.206556  \n",
      "2           21            7.211103  \n",
      "3           15           13.784049  \n",
      "4           21            6.164414  \n",
      "Columnas disponibles: Index(['skeleton-id', 'node-id-src', 'node-id-dst', 'branch-distance',\n",
      "       'branch-type', 'mean-pixel-value', 'stdev-pixel-value',\n",
      "       'image-coord-src-0', 'image-coord-src-1', 'image-coord-src-2',\n",
      "       'image-coord-dst-0', 'image-coord-dst-1', 'image-coord-dst-2',\n",
      "       'coord-src-0', 'coord-src-1', 'coord-src-2', 'coord-dst-0',\n",
      "       'coord-dst-1', 'coord-dst-2', 'euclidean-distance'],\n",
      "      dtype='object')\n"
     ]
    }
   ],
   "source": [
    "print(branch_data.head())\n",
    "print(\"Columnas disponibles:\", branch_data.columns)"
   ]
  },
  {
   "cell_type": "code",
   "execution_count": null,
   "metadata": {
    "vscode": {
     "languageId": "python"
    }
   },
   "outputs": [
    {
     "ename": "AttributeError",
     "evalue": "'Skeleton' object has no attribute 'branch_data'",
     "output_type": "error",
     "traceback": [
      "\u001b[0;31m---------------------------------------------------------------------------\u001b[0m",
      "\u001b[0;31mAttributeError\u001b[0m                            Traceback (most recent call last)",
      "Cell \u001b[0;32mIn[18], line 14\u001b[0m\n\u001b[1;32m     10\u001b[0m branch_id \u001b[38;5;241m=\u001b[39m branch[\u001b[38;5;124m'\u001b[39m\u001b[38;5;124mskeleton-id\u001b[39m\u001b[38;5;124m'\u001b[39m]  \u001b[38;5;66;03m# Puedes usar skeleton-id como identificador\u001b[39;00m\n\u001b[1;32m     12\u001b[0m \u001b[38;5;66;03m# Filtrar los píxeles de la rama actual, adaptando a tu estructura de datos\u001b[39;00m\n\u001b[1;32m     13\u001b[0m \u001b[38;5;66;03m# Aquí asumo que skel.branch_data podría ser similar a branch_data en su estructura\u001b[39;00m\n\u001b[0;32m---> 14\u001b[0m branch_pixels \u001b[38;5;241m=\u001b[39m (skel\u001b[38;5;241m.\u001b[39mbranch_data[\u001b[38;5;124m'\u001b[39m\u001b[38;5;124mskeleton-id\u001b[39m\u001b[38;5;124m'\u001b[39m] \u001b[38;5;241m==\u001b[39m branch_id) \u001b[38;5;241m&\u001b[39m \\\n\u001b[1;32m     15\u001b[0m                 (skel\u001b[38;5;241m.\u001b[39mbranch_data[\u001b[38;5;124m'\u001b[39m\u001b[38;5;124mnode-id-src\u001b[39m\u001b[38;5;124m'\u001b[39m] \u001b[38;5;241m==\u001b[39m branch[\u001b[38;5;124m'\u001b[39m\u001b[38;5;124mnode-id-src\u001b[39m\u001b[38;5;124m'\u001b[39m])\n\u001b[1;32m     17\u001b[0m \u001b[38;5;66;03m# Verificar el tamaño de la rama\u001b[39;00m\n\u001b[1;32m     18\u001b[0m num_pixels \u001b[38;5;241m=\u001b[39m np\u001b[38;5;241m.\u001b[39msum(branch_pixels)\n",
      "\u001b[0;31mAttributeError\u001b[0m: 'Skeleton' object has no attribute 'branch_data'"
     ]
    }
   ],
   "source": [
    "# Parámetros de eliminación\n",
    "x = 10  # Número mínimo de píxeles de la rama\n",
    "thickness_threshold = 4  # Umbral de distancia en el thickness_map\n",
    "\n",
    "# Inicializar una máscara para eliminar ramas que cumplen con los criterios\n",
    "skeleton_cleaned = np.copy(smaller_skeleton)\n",
    "\n",
    "# Iterar sobre cada rama en branch_data usando skeleton-id y node-id-src como identificador\n",
    "for _, branch in branch_data.iterrows():\n",
    "    branch_id = branch['skeleton-id']  # Puedes usar skeleton-id como identificador\n",
    "    \n",
    "    # Filtrar los píxeles de la rama actual, adaptando a tu estructura de datos\n",
    "    # Aquí asumo que skel.branch_data podría ser similar a branch_data en su estructura\n",
    "    branch_pixels = (skel.branch_data['skeleton-id'] == branch_id) & \\\n",
    "                    (skel.branch_data['node-id-src'] == branch['node-id-src'])\n",
    "\n",
    "    # Verificar el tamaño de la rama\n",
    "    num_pixels = np.sum(branch_pixels)\n",
    "\n",
    "    # Calcular el valor máximo de espesor en thickness_map para esta rama\n",
    "    max_thickness = thickness_map[branch_pixels].max()\n",
    "\n",
    "    # Condición para eliminar la rama\n",
    "    if num_pixels < x and max_thickness > thickness_threshold:\n",
    "        # Eliminar la rama de la máscara esquelética\n",
    "        skeleton_cleaned[branch_pixels] = 0\n",
    "\n",
    "# Guardar el esqueleto limpio en un archivo\n",
    "output_path_cleaned = '/zhome/57/0/203104/specialCourse_fall24/outputs/output_volume_smaller_skeleton_cleaned.tif'\n",
    "tiff.imwrite(output_path_cleaned, skeleton_cleaned)\n",
    "\n",
    "print(\"El esqueleto ha sido limpiado y guardado en el archivo.\")\n",
    "\n"
   ]
  }
 ],
 "metadata": {
  "kernelspec": {
   "display_name": "Python 3 (ipykernel)",
   "language": "python",
   "name": "python3"
  },
  "language_info": {
   "name": "",
   "version": ""
  }
 },
 "nbformat": 4,
 "nbformat_minor": 2
}
