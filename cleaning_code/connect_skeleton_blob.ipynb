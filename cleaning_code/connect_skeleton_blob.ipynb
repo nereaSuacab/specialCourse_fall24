{
 "cells": [
  {
   "cell_type": "code",
   "execution_count": 1,
   "metadata": {},
   "outputs": [],
   "source": [
    "import numpy as np\n",
    "# import cupy as cp\n",
    "# print(cp.__version__)\n",
    "import tifffile as tiff\n",
    "from skimage.morphology import skeletonize  # Import for skeletonization\n",
    "from skan import Skeleton, summarize\n",
    "from joblib import Parallel, delayed\n",
    "import sys\n",
    "# from ltedt import local_thickness"
   ]
  },
  {
   "cell_type": "code",
   "execution_count": 2,
   "metadata": {},
   "outputs": [],
   "source": [
    "def print_branches(skeleton_cleaned):\n",
    "    skel = Skeleton(skeleton_cleaned)\n",
    "    branch_data = summarize(skel)\n",
    "\n",
    "    branch_type_0 = branch_data[branch_data['branch-type'] == 0]\n",
    "    branch_type_1 = branch_data[branch_data['branch-type'] == 1]\n",
    "    branch_type_2 = branch_data[branch_data['branch-type'] == 2]\n",
    "    branch_type_3 = branch_data[branch_data['branch-type'] == 3]\n",
    "\n",
    "    print(f\"Number of branch type 0: {len(branch_type_0)}\")\n",
    "    print(f\"Number of branch type 1: {len(branch_type_1)}\")\n",
    "    print(f\"Number of branch type 2: {len(branch_type_2)}\")\n",
    "    print(f\"Number of branch type 3: {len(branch_type_3)}\")"
   ]
  },
  {
   "cell_type": "code",
   "execution_count": 3,
   "metadata": {},
   "outputs": [
    {
     "name": "stdout",
     "output_type": "stream",
     "text": [
      "Size of the volume is: (200, 200, 200)\n"
     ]
    }
   ],
   "source": [
    "# binary_volume = tiff.imread(\"/zhome/57/0/203104/specialCourse_fall24/outputs/output_volume.tif\")\n",
    "binary_volume = tiff.imread(\"C:/Users/nerea/Documents/MasterDTU/SpacialCourse_Fall24/specialCourse_fall24/outputs/skeleleton_clean_x20_th5.tif\")\n",
    "# Get the size of the volume\n",
    "print(f'Size of the volume is: {binary_volume.shape}')"
   ]
  },
  {
   "cell_type": "code",
   "execution_count": 4,
   "metadata": {},
   "outputs": [
    {
     "name": "stdout",
     "output_type": "stream",
     "text": [
      "Number of branch type 0: 11\n",
      "Number of branch type 1: 27\n",
      "Number of branch type 2: 17\n",
      "Number of branch type 3: 1\n"
     ]
    }
   ],
   "source": [
    "print_branches(binary_volume)"
   ]
  },
  {
   "cell_type": "code",
   "execution_count": 5,
   "metadata": {},
   "outputs": [
    {
     "name": "stdout",
     "output_type": "stream",
     "text": [
      "48.35873884767937\n",
      "12.949382989376325\n",
      "1.4142135623730951\n",
      "3.82842712474619\n",
      "1.7320508075688772\n",
      "3.82842712474619\n",
      "7.706742302257039\n",
      "21.070338854006465\n",
      "2.8284271247461903\n",
      "11.217332181807448\n",
      "2.8284271247461903\n"
     ]
    }
   ],
   "source": [
    "skel = Skeleton(binary_volume)\n",
    "branch_data = summarize(skel)\n",
    "\n",
    "for branch_id in branch_data.index:\n",
    "    if branch_data.loc[branch_id, 'branch-type'] == 0:\n",
    "        branch_length = branch_data.loc[branch_id, 'branch-distance']\n",
    "        print(branch_length)"
   ]
  },
  {
   "cell_type": "code",
   "execution_count": 6,
   "metadata": {},
   "outputs": [
    {
     "name": "stdout",
     "output_type": "stream",
     "text": [
      "22\n"
     ]
    }
   ],
   "source": [
    "import cc3d\n",
    "import numpy as np\n",
    "\n",
    "labels_out = cc3d.connected_components(binary_volume)\n",
    "labels_out, N = cc3d.connected_components(binary_volume, return_N=True)\n",
    "print(N)"
   ]
  },
  {
   "cell_type": "code",
   "execution_count": 7,
   "metadata": {},
   "outputs": [],
   "source": [
    "# Initialize a dictionary to map each branch ID to its corresponding blob(s)\n",
    "branch_blob_mapping = {}\n",
    "pixel_blob_mapping = np.zeros_like(labels_out, dtype=int)\n",
    "\n",
    "# Step 2: For each branch, get the coordinates and map them to the corresponding blob label(s)\n",
    "for branch_id in branch_data.index:\n",
    "    # Get the coordinates of the current branch in the skeleton structure\n",
    "    coordinates = skel.path_coordinates(branch_id)\n",
    "    \n",
    "    # Fetch the labels at those coordinates from the labels_out array\n",
    "    branch_labels = labels_out[coordinates[:, 0], coordinates[:, 1], coordinates[:, 2]]\n",
    "    \n",
    "    # Find the unique label(s) associated with this branch\n",
    "    unique_blob_labels = np.unique(branch_labels)\n",
    "    \n",
    "    # Store the unique label(s) in the branch_blob_mapping\n",
    "    if len(unique_blob_labels) > 1:\n",
    "        branch_blob_mapping[branch_id] = unique_blob_labels\n",
    "    else:\n",
    "        branch_blob_mapping[branch_id] = unique_blob_labels[0]\n",
    "    \n",
    "    # Step 3: Map each pixel in this branch to its corresponding blob label(s)\n",
    "    for i, coord in enumerate(coordinates):\n",
    "        pixel_blob_mapping[tuple(coord)] = branch_labels[i]\n"
   ]
  },
  {
   "cell_type": "code",
   "execution_count": 8,
   "metadata": {},
   "outputs": [],
   "source": [
    "def bresenham_line_3d(p1, p2):\n",
    "    # Implementa el algoritmo de Bresenham en 3D para trazar una línea entre dos puntos\n",
    "    x1, y1, z1 = p1\n",
    "    x2, y2, z2 = p2\n",
    "    points = []\n",
    "\n",
    "    dx = abs(x2 - x1)\n",
    "    dy = abs(y2 - y1)\n",
    "    dz = abs(z2 - z1)\n",
    "    sx = 1 if x1 < x2 else -1\n",
    "    sy = 1 if y1 < y2 else -1\n",
    "    sz = 1 if z1 < z2 else -1\n",
    "    err = dx - dy - dz\n",
    "\n",
    "    while True:\n",
    "        points.append((x1, y1, z1))\n",
    "        if (x1, y1, z1) == (x2, y2, z2):\n",
    "            break\n",
    "        e2 = err * 2\n",
    "        if e2 > -dy - dz:\n",
    "            err -= dy\n",
    "            x1 += sx\n",
    "        if e2 < dx - dz:\n",
    "            err += dx\n",
    "            y1 += sy\n",
    "        if e2 < dx - dy:\n",
    "            err += dz\n",
    "            z1 += sz\n",
    "    return points\n"
   ]
  },
  {
   "cell_type": "code",
   "execution_count": 17,
   "metadata": {},
   "outputs": [],
   "source": [
    "import numpy as np\n",
    "from scipy.spatial.distance import cdist\n",
    "\n",
    "# Paso 1: Calcular centroides de los blobs en 3D\n",
    "def calculate_centroid(blob_labels, labels_out):\n",
    "    centroids = {}\n",
    "    for blob in np.unique(blob_labels):\n",
    "        # Encuentra las coordenadas de todos los píxeles de ese blob\n",
    "        coords = np.array(np.where(labels_out == blob)).T\n",
    "        # Calcula el centroide como el promedio de las coordenadas\n",
    "        centroid = np.mean(coords, axis=0)\n",
    "        centroids[blob] = centroid\n",
    "    return centroids\n",
    "\n",
    "# Paso 2: Encontrar los blobs más cercanos en 3D\n",
    "def find_closest_blobs(centroids):\n",
    "    blobs = list(centroids.keys())\n",
    "    distances = cdist([centroids[blob] for blob in blobs], [centroids[blob] for blob in blobs])\n",
    "    np.fill_diagonal(distances, np.inf)  # Evitar que los blobs se conecten consigo mismos\n",
    "    closest_pairs = np.unravel_index(np.argmin(distances), distances.shape)\n",
    "    return blobs[closest_pairs[0]], blobs[closest_pairs[1]]\n",
    "\n",
    "# Paso 3: Conectar los blobs más cercanos con una línea recta 3D\n",
    "def connect_blobs_3d(labels_out, pixel_blob_mapping, skeleton_cleaned):\n",
    "    # Calcular centroides de todos los blobs\n",
    "    skel = skeleton_cleaned.copy()\n",
    "    centroids = calculate_centroid(labels_out, labels_out)\n",
    "\n",
    "    # Encontrar el par de blobs más cercanos\n",
    "    blob1, blob2 = find_closest_blobs(centroids)\n",
    "\n",
    "    # Encuentra un punto en cada blob\n",
    "    coords_blob1 = np.array(np.where(labels_out == blob1)).T\n",
    "    coords_blob2 = np.array(np.where(labels_out == blob2)).T\n",
    "\n",
    "    # Seleccionar el primer píxel de cada blob\n",
    "    p1 = coords_blob1[0]\n",
    "    p2 = coords_blob2[0]\n",
    "\n",
    "    # Calcular la línea de Bresenham entre los puntos (en 3D)\n",
    "    line_points = bresenham_line_3d(p1, p2)\n",
    "\n",
    "    # Conectar los blobs en el mapeo de píxeles\n",
    "    for point in line_points:\n",
    "        pixel_blob_mapping[tuple(point)] = blob1  # O puedes usar una mezcla de ambos blobs\n",
    "        skel[tuple(point)] = 1\n",
    "    \n",
    "    return skel\n"
   ]
  },
  {
   "cell_type": "code",
   "execution_count": 18,
   "metadata": {},
   "outputs": [
    {
     "name": "stdout",
     "output_type": "stream",
     "text": [
      "23\n"
     ]
    }
   ],
   "source": [
    "blob_mapping_connected = connect_blobs_3d(labels_out, pixel_blob_mapping, binary_volume)\n",
    "tiff.imwrite('blob_mapping_connected.tif', blob_mapping_connected)\n",
    "labels_out, N = cc3d.connected_components(blob_mapping_connected, return_N=True)\n",
    "print(N)\n"
   ]
  },
  {
   "cell_type": "code",
   "execution_count": 11,
   "metadata": {},
   "outputs": [
    {
     "name": "stdout",
     "output_type": "stream",
     "text": [
      "Number of branch type 0: 13\n",
      "Number of branch type 1: 26\n",
      "Number of branch type 2: 8\n",
      "Number of branch type 3: 0\n"
     ]
    }
   ],
   "source": [
    "# Assuming blob_mapping_connected is a 3D NumPy array\n",
    "# Step 1: Convert to binary\n",
    "binary_blob = (blob_mapping_connected > 0)\n",
    "\n",
    "# Step 2: Skeletonize\n",
    "skeleton_connected = skeletonize(binary_blob)\n",
    "print_branches(skeleton_connected)"
   ]
  },
  {
   "cell_type": "code",
   "execution_count": 23,
   "metadata": {},
   "outputs": [],
   "source": [
    "output_path_cleaned = 'C:/Users/nerea/Documents/MasterDTU/SpacialCourse_Fall24/specialCourse_fall24/outputs/skeleton_connected.tif'\n",
    "tiff.imwrite(output_path_cleaned, skeleton_connected)"
   ]
  },
  {
   "cell_type": "markdown",
   "metadata": {},
   "source": [
    "## Dilation"
   ]
  },
  {
   "cell_type": "code",
   "execution_count": 19,
   "metadata": {},
   "outputs": [
    {
     "name": "stdout",
     "output_type": "stream",
     "text": [
      "Size of the volume is: (200, 200, 200)\n",
      "Dilated volume saved to C:/Users/nerea/Documents/MasterDTU/SpacialCourse_Fall24/specialCourse_fall24/outputs/dilated_volume.tif\n"
     ]
    }
   ],
   "source": [
    "import numpy as np\n",
    "import tifffile as tiff\n",
    "from scipy.ndimage import binary_dilation\n",
    "\n",
    "# Load the binary volume\n",
    "binary_volume = tiff.imread(\"C:/Users/nerea/Documents/MasterDTU/SpacialCourse_Fall24/specialCourse_fall24/outputs/skeleleton_clean_x20_th5.tif\")\n",
    "\n",
    "# Print the size of the volume\n",
    "print(f'Size of the volume is: {binary_volume.shape}')\n",
    "\n",
    "# Define the structuring element for dilation (3x3x3 cube in this case)\n",
    "structuring_element = np.ones((3, 3, 3), dtype=np.uint8)\n",
    "\n",
    "# Apply binary dilation\n",
    "dilated_volume = binary_dilation(binary_volume, structure=structuring_element)\n",
    "\n",
    "# Save the dilated volume back to a TIFF file\n",
    "output_path = \"C:/Users/nerea/Documents/MasterDTU/SpacialCourse_Fall24/specialCourse_fall24/outputs/dilated_volume.tif\"\n",
    "tiff.imwrite(output_path, dilated_volume.astype(np.uint8))  # Save as uint8\n",
    "print(f\"Dilated volume saved to {output_path}\")\n",
    "\n"
   ]
  },
  {
   "cell_type": "code",
   "execution_count": 22,
   "metadata": {},
   "outputs": [
    {
     "name": "stdout",
     "output_type": "stream",
     "text": [
      "Number of branch type 0: 0\n",
      "Number of branch type 1: 21\n",
      "Number of branch type 2: 18\n",
      "Number of branch type 3: 0\n",
      "Dilated volume saved to C:/Users/nerea/Documents/MasterDTU/SpacialCourse_Fall24/specialCourse_fall24/outputs/dilated_volume_skeleton.tif\n"
     ]
    }
   ],
   "source": [
    "dilated_skeleton = skeletonize(dilated_volume)\n",
    "print_branches(dilated_skeleton)\n",
    "\n",
    "output_path = \"C:/Users/nerea/Documents/MasterDTU/SpacialCourse_Fall24/specialCourse_fall24/outputs/dilated_volume_skeleton.tif\"\n",
    "tiff.imwrite(output_path, dilated_skeleton.astype(np.uint8))  # Save as uint8\n",
    "print(f\"Dilated volume saved to {output_path}\")"
   ]
  },
  {
   "cell_type": "code",
   "execution_count": null,
   "metadata": {},
   "outputs": [],
   "source": []
  }
 ],
 "metadata": {
  "kernelspec": {
   "display_name": "SCenv",
   "language": "python",
   "name": "python3"
  },
  "language_info": {
   "codemirror_mode": {
    "name": "ipython",
    "version": 3
   },
   "file_extension": ".py",
   "mimetype": "text/x-python",
   "name": "python",
   "nbconvert_exporter": "python",
   "pygments_lexer": "ipython3",
   "version": "3.11.10"
  }
 },
 "nbformat": 4,
 "nbformat_minor": 2
}
