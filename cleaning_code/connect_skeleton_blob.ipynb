{
 "cells": [
  {
   "cell_type": "code",
   "execution_count": 1,
   "metadata": {},
   "outputs": [],
   "source": [
    "import numpy as np\n",
    "# import cupy as cp\n",
    "# print(cp.__version__)\n",
    "import tifffile as tiff\n",
    "from skimage.morphology import skeletonize  # Import for skeletonization\n",
    "from skan import Skeleton, summarize\n",
    "from joblib import Parallel, delayed\n",
    "import sys"
   ]
  },
  {
   "cell_type": "code",
   "execution_count": 2,
   "metadata": {},
   "outputs": [],
   "source": [
    "def print_branches(skeleton_cleaned):\n",
    "    skel = Skeleton(skeleton_cleaned)\n",
    "    branch_data = summarize(skel)\n",
    "\n",
    "    branch_type_0 = branch_data[branch_data['branch-type'] == 0]\n",
    "    branch_type_1 = branch_data[branch_data['branch-type'] == 1]\n",
    "    branch_type_2 = branch_data[branch_data['branch-type'] == 2]\n",
    "    branch_type_3 = branch_data[branch_data['branch-type'] == 3]\n",
    "\n",
    "    print(f\"Number of branch type 0: {len(branch_type_0)}\")\n",
    "    print(f\"Number of branch type 1: {len(branch_type_1)}\")\n",
    "    print(f\"Number of branch type 2: {len(branch_type_2)}\")\n",
    "    print(f\"Number of branch type 3: {len(branch_type_3)}\")"
   ]
  },
  {
   "cell_type": "code",
   "execution_count": 3,
   "metadata": {},
   "outputs": [
    {
     "name": "stdout",
     "output_type": "stream",
     "text": [
      "Size of the volume is: (200, 200, 200)\n"
     ]
    }
   ],
   "source": [
    "# binary_volume = tiff.imread(\"/zhome/57/0/203104/specialCourse_fall24/outputs/output_volume.tif\")\n",
    "binary_volume = tiff.imread(\"C:/Users/nerea/Documents/MasterDTU/SpacialCourse_Fall24/specialCourse_fall24/outputs/skeleleton_clean_x20_th5.tif\")\n",
    "# Get the size of the volume\n",
    "print(f'Size of the volume is: {binary_volume.shape}')"
   ]
  },
  {
   "cell_type": "code",
   "execution_count": 4,
   "metadata": {},
   "outputs": [
    {
     "name": "stdout",
     "output_type": "stream",
     "text": [
      "Number of branch type 0: 11\n",
      "Number of branch type 1: 27\n",
      "Number of branch type 2: 17\n",
      "Number of branch type 3: 1\n"
     ]
    }
   ],
   "source": [
    "print_branches(binary_volume)"
   ]
  },
  {
   "cell_type": "code",
   "execution_count": 5,
   "metadata": {},
   "outputs": [],
   "source": [
    "skel = Skeleton(binary_volume)\n",
    "branch_data = summarize(skel)"
   ]
  },
  {
   "cell_type": "code",
   "execution_count": 6,
   "metadata": {},
   "outputs": [
    {
     "name": "stdout",
     "output_type": "stream",
     "text": [
      "22\n"
     ]
    }
   ],
   "source": [
    "import cc3d\n",
    "import numpy as np\n",
    "\n",
    "labels_out = cc3d.connected_components(binary_volume)\n",
    "labels_out, N = cc3d.connected_components(binary_volume, return_N=True)\n",
    "print(N)"
   ]
  },
  {
   "cell_type": "code",
   "execution_count": 7,
   "metadata": {},
   "outputs": [],
   "source": [
    "# Initialize a dictionary to map each branch ID to its corresponding blob(s)\n",
    "branch_blob_mapping = {}\n",
    "pixel_blob_mapping = np.zeros_like(labels_out, dtype=int)\n",
    "\n",
    "# Step 2: For each branch, get the coordinates and map them to the corresponding blob label(s)\n",
    "for branch_id in branch_data.index:\n",
    "    # Get the coordinates of the current branch in the skeleton structure\n",
    "    coordinates = skel.path_coordinates(branch_id)\n",
    "    \n",
    "    # Fetch the labels at those coordinates from the labels_out array\n",
    "    branch_labels = labels_out[coordinates[:, 0], coordinates[:, 1], coordinates[:, 2]]\n",
    "    \n",
    "    # Find the unique label(s) associated with this branch\n",
    "    unique_blob_labels = np.unique(branch_labels)\n",
    "    \n",
    "    # Store the unique label(s) in the branch_blob_mapping\n",
    "    if len(unique_blob_labels) > 1:\n",
    "        branch_blob_mapping[branch_id] = unique_blob_labels\n",
    "    else:\n",
    "        branch_blob_mapping[branch_id] = unique_blob_labels[0]\n",
    "    \n",
    "    # Step 3: Map each pixel in this branch to its corresponding blob label(s)\n",
    "    for i, coord in enumerate(coordinates):\n",
    "        pixel_blob_mapping[tuple(coord)] = branch_labels[i]\n"
   ]
  },
  {
   "cell_type": "code",
   "execution_count": 8,
   "metadata": {},
   "outputs": [],
   "source": [
    "def bresenham_line_3d(p1, p2):\n",
    "    # Implementa el algoritmo de Bresenham en 3D para trazar una línea entre dos puntos\n",
    "    x1, y1, z1 = p1\n",
    "    x2, y2, z2 = p2\n",
    "    points = []\n",
    "\n",
    "    dx = abs(x2 - x1)\n",
    "    dy = abs(y2 - y1)\n",
    "    dz = abs(z2 - z1)\n",
    "    sx = 1 if x1 < x2 else -1\n",
    "    sy = 1 if y1 < y2 else -1\n",
    "    sz = 1 if z1 < z2 else -1\n",
    "    err = dx - dy - dz\n",
    "\n",
    "    while True:\n",
    "        points.append((x1, y1, z1))\n",
    "        if (x1, y1, z1) == (x2, y2, z2):\n",
    "            break\n",
    "        e2 = err * 2\n",
    "        if e2 > -dy - dz:\n",
    "            err -= dy\n",
    "            x1 += sx\n",
    "        if e2 < dx - dz:\n",
    "            err += dx\n",
    "            y1 += sy\n",
    "        if e2 < dx - dy:\n",
    "            err += dz\n",
    "            z1 += sz\n",
    "    return points\n"
   ]
  },
  {
   "cell_type": "code",
   "execution_count": 15,
   "metadata": {},
   "outputs": [],
   "source": [
    "import numpy as np\n",
    "from scipy.spatial.distance import cdist\n",
    "\n",
    "# Paso 1: Calcular centroides de los blobs en 3D\n",
    "def calculate_centroid(blob_labels, labels_out):\n",
    "    centroids = {}\n",
    "    for blob in np.unique(blob_labels):\n",
    "        # Encuentra las coordenadas de todos los píxeles de ese blob\n",
    "        coords = np.array(np.where(labels_out == blob)).T\n",
    "        # Calcula el centroide como el promedio de las coordenadas\n",
    "        centroid = np.mean(coords, axis=0)\n",
    "        centroids[blob] = centroid\n",
    "    return centroids\n",
    "\n",
    "# Paso 2: Encontrar los blobs más cercanos en 3D\n",
    "def find_closest_blobs(centroids):\n",
    "    blobs = list(centroids.keys())\n",
    "    distances = cdist([centroids[blob] for blob in blobs], [centroids[blob] for blob in blobs])\n",
    "    np.fill_diagonal(distances, np.inf)  # Evitar que los blobs se conecten consigo mismos\n",
    "    closest_pairs = np.unravel_index(np.argmin(distances), distances.shape)\n",
    "    return blobs[closest_pairs[0]], blobs[closest_pairs[1]]\n",
    "\n",
    "# Paso 3: Conectar los blobs más cercanos con una línea recta 3D\n",
    "def connect_blobs_3d(labels_out, pixel_blob_mapping, skeleton_cleaned):\n",
    "    # Calcular centroides de todos los blobs\n",
    "    skel = np.copy(skeleton_cleaned)\n",
    "    centroids = calculate_centroid(labels_out, labels_out)\n",
    "\n",
    "    # Encontrar el par de blobs más cercanos\n",
    "    blob1, blob2 = find_closest_blobs(centroids)\n",
    "    print(f\"Connecting blobs {blob1} and {blob2}\")\n",
    "\n",
    "    # Encuentra un punto en cada blob\n",
    "    coords_blob1 = np.array(np.where(labels_out == blob1)).T\n",
    "    coords_blob2 = np.array(np.where(labels_out == blob2)).T\n",
    "\n",
    "    # Seleccionar el primer píxel de cada blob\n",
    "    p1 = coords_blob1[0]\n",
    "    p2 = coords_blob2[0]\n",
    "\n",
    "    # Calcular la línea de Bresenham entre los puntos (en 3D)\n",
    "    line_points = bresenham_line_3d(p1, p2)\n",
    "\n",
    "    # Conectar los blobs en el mapeo de píxeles\n",
    "    for point in line_points:\n",
    "        pixel_blob_mapping[tuple(point)] = blob1  # O puedes usar una mezcla de ambos blobs\n",
    "        skel[tuple(point)] = 1\n",
    "    \n",
    "    return skel\n"
   ]
  },
  {
   "cell_type": "code",
   "execution_count": 17,
   "metadata": {},
   "outputs": [
    {
     "ename": "MemoryError",
     "evalue": "Unable to allocate 183. MiB for an array with shape (3, 7999723) and data type int64",
     "output_type": "error",
     "traceback": [
      "\u001b[1;31m---------------------------------------------------------------------------\u001b[0m",
      "\u001b[1;31mMemoryError\u001b[0m                               Traceback (most recent call last)",
      "Cell \u001b[1;32mIn[17], line 3\u001b[0m\n\u001b[0;32m      1\u001b[0m \u001b[38;5;28;01mwhile\u001b[39;00m \u001b[38;5;28;01mTrue\u001b[39;00m:\n\u001b[0;32m      2\u001b[0m     \u001b[38;5;66;03m# Paso 4: Repetir los pasos 2 y 3 hasta que todos los blobs estén conectados\u001b[39;00m\n\u001b[1;32m----> 3\u001b[0m     skel \u001b[38;5;241m=\u001b[39m \u001b[43mconnect_blobs_3d\u001b[49m\u001b[43m(\u001b[49m\u001b[43mlabels_out\u001b[49m\u001b[43m,\u001b[49m\u001b[43m \u001b[49m\u001b[43mpixel_blob_mapping\u001b[49m\u001b[43m,\u001b[49m\u001b[43m \u001b[49m\u001b[43mskel\u001b[49m\u001b[43m)\u001b[49m\n\u001b[0;32m      5\u001b[0m     \u001b[38;5;66;03m# Free up memory by deleting unused variables\u001b[39;00m\n\u001b[0;32m      6\u001b[0m     \u001b[38;5;28;01mdel\u001b[39;00m labels_out, pixel_blob_mapping\n",
      "Cell \u001b[1;32mIn[15], line 27\u001b[0m, in \u001b[0;36mconnect_blobs_3d\u001b[1;34m(labels_out, pixel_blob_mapping, skeleton_cleaned)\u001b[0m\n\u001b[0;32m     24\u001b[0m \u001b[38;5;28;01mdef\u001b[39;00m \u001b[38;5;21mconnect_blobs_3d\u001b[39m(labels_out, pixel_blob_mapping, skeleton_cleaned):\n\u001b[0;32m     25\u001b[0m     \u001b[38;5;66;03m# Calcular centroides de todos los blobs\u001b[39;00m\n\u001b[0;32m     26\u001b[0m     skel \u001b[38;5;241m=\u001b[39m np\u001b[38;5;241m.\u001b[39mcopy(skeleton_cleaned)\n\u001b[1;32m---> 27\u001b[0m     centroids \u001b[38;5;241m=\u001b[39m \u001b[43mcalculate_centroid\u001b[49m\u001b[43m(\u001b[49m\u001b[43mlabels_out\u001b[49m\u001b[43m,\u001b[49m\u001b[43m \u001b[49m\u001b[43mlabels_out\u001b[49m\u001b[43m)\u001b[49m\n\u001b[0;32m     29\u001b[0m     \u001b[38;5;66;03m# Encontrar el par de blobs más cercanos\u001b[39;00m\n\u001b[0;32m     30\u001b[0m     blob1, blob2 \u001b[38;5;241m=\u001b[39m find_closest_blobs(centroids)\n",
      "Cell \u001b[1;32mIn[15], line 9\u001b[0m, in \u001b[0;36mcalculate_centroid\u001b[1;34m(blob_labels, labels_out)\u001b[0m\n\u001b[0;32m      6\u001b[0m centroids \u001b[38;5;241m=\u001b[39m {}\n\u001b[0;32m      7\u001b[0m \u001b[38;5;28;01mfor\u001b[39;00m blob \u001b[38;5;129;01min\u001b[39;00m np\u001b[38;5;241m.\u001b[39munique(blob_labels):\n\u001b[0;32m      8\u001b[0m     \u001b[38;5;66;03m# Encuentra las coordenadas de todos los píxeles de ese blob\u001b[39;00m\n\u001b[1;32m----> 9\u001b[0m     coords \u001b[38;5;241m=\u001b[39m \u001b[43mnp\u001b[49m\u001b[38;5;241;43m.\u001b[39;49m\u001b[43marray\u001b[49m\u001b[43m(\u001b[49m\u001b[43mnp\u001b[49m\u001b[38;5;241;43m.\u001b[39;49m\u001b[43mwhere\u001b[49m\u001b[43m(\u001b[49m\u001b[43mlabels_out\u001b[49m\u001b[43m \u001b[49m\u001b[38;5;241;43m==\u001b[39;49m\u001b[43m \u001b[49m\u001b[43mblob\u001b[49m\u001b[43m)\u001b[49m\u001b[43m)\u001b[49m\u001b[38;5;241m.\u001b[39mT\n\u001b[0;32m     10\u001b[0m     \u001b[38;5;66;03m# Calcula el centroide como el promedio de las coordenadas\u001b[39;00m\n\u001b[0;32m     11\u001b[0m     centroid \u001b[38;5;241m=\u001b[39m np\u001b[38;5;241m.\u001b[39mmean(coords, axis\u001b[38;5;241m=\u001b[39m\u001b[38;5;241m0\u001b[39m)\n",
      "\u001b[1;31mMemoryError\u001b[0m: Unable to allocate 183. MiB for an array with shape (3, 7999723) and data type int64"
     ]
    }
   ],
   "source": [
    "while True:\n",
    "    # Paso 4: Repetir los pasos 2 y 3 hasta que todos los blobs estén conectados\n",
    "    skel = connect_blobs_3d(labels_out, pixel_blob_mapping, skel)\n",
    "    \n",
    "    # Free up memory by deleting unused variables\n",
    "    del labels_out, pixel_blob_mapping\n",
    "    \n",
    "    labels_out, N = cc3d.connected_components(skel, return_N=True)\n",
    "    print(f\"Number of blobs: {N}\")\n",
    "    \n",
    "    # Reinitialize pixel_blob_mapping to reduce memory usage\n",
    "    pixel_blob_mapping = np.zeros_like(labels_out, dtype=int)\n",
    "    \n",
    "    if N == 1:\n",
    "        print(\"All blobs are connected!\")\n",
    "        break"
   ]
  },
  {
   "cell_type": "code",
   "execution_count": null,
   "metadata": {},
   "outputs": [
    {
     "name": "stdout",
     "output_type": "stream",
     "text": [
      "23\n"
     ]
    }
   ],
   "source": [
    "# blob_mapping_connected = connect_blobs_3d(labels_out, pixel_blob_mapping, binary_volume)\n",
    "tiff.imwrite('blob_mapping_connected.tif', skel)\n"
   ]
  },
  {
   "cell_type": "code",
   "execution_count": 11,
   "metadata": {},
   "outputs": [
    {
     "name": "stdout",
     "output_type": "stream",
     "text": [
      "Number of branch type 0: 13\n",
      "Number of branch type 1: 26\n",
      "Number of branch type 2: 8\n",
      "Number of branch type 3: 0\n"
     ]
    }
   ],
   "source": [
    "# Assuming blob_mapping_connected is a 3D NumPy array\n",
    "# Step 1: Convert to binary\n",
    "binary_blob = (blob_mapping_connected > 0)\n",
    "\n",
    "# Step 2: Skeletonize\n",
    "skeleton_connected = skeletonize(binary_blob)\n",
    "print_branches(skeleton_connected)"
   ]
  },
  {
   "cell_type": "code",
   "execution_count": 23,
   "metadata": {},
   "outputs": [],
   "source": [
    "output_path_cleaned = 'C:/Users/nerea/Documents/MasterDTU/SpacialCourse_Fall24/specialCourse_fall24/outputs/skeleton_connected.tif'\n",
    "tiff.imwrite(output_path_cleaned, skeleton_connected)"
   ]
  }
 ],
 "metadata": {
  "kernelspec": {
   "display_name": "SCenv",
   "language": "python",
   "name": "python3"
  },
  "language_info": {
   "codemirror_mode": {
    "name": "ipython",
    "version": 3
   },
   "file_extension": ".py",
   "mimetype": "text/x-python",
   "name": "python",
   "nbconvert_exporter": "python",
   "pygments_lexer": "ipython3",
   "version": "3.11.10"
  }
 },
 "nbformat": 4,
 "nbformat_minor": 2
}
