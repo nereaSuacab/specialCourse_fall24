{
 "cells": [
  {
   "cell_type": "code",
   "execution_count": null,
   "metadata": {},
   "outputs": [],
   "source": [
    "import numpy as np\n",
    "import cupy as cp  # Only if you have a GPU\n",
    "from scipy.ndimage import distance_transform_edt\n",
    "from skimage.morphology import skeletonize_3d\n",
    "from skan import Skeleton, summarize\n",
    "from joblib import Parallel, delayed\n",
    "import skan.csr\n",
    "\n",
    "def calculate_local_thickness(binary_volume, skeleton_volume, max_distance=10):\n",
    "    \"\"\"\n",
    "    Calculate a masked distance map near the skeleton.\n",
    "    \"\"\"\n",
    "    # Calculate distance only around the skeleton to reduce computation\n",
    "    masked_distance_map = distance_transform_edt(binary_volume)\n",
    "    masked_distance_map[masked_distance_map > max_distance] = 0  # Mask distances above a threshold\n",
    "    return masked_distance_map * skeleton_volume\n",
    "\n",
    "def compute_statistics(skeleton):\n",
    "    \"\"\"\n",
    "    Computes mean, max, and median widths for each path in parallel.\n",
    "    \"\"\"\n",
    "    def path_stats(path_id):\n",
    "        widths = skeleton.path_with_data(path_id)[1]\n",
    "        return np.mean(widths), np.max(widths), np.median(widths)\n",
    "    \n",
    "    # Use parallel processing to calculate statistics\n",
    "    results = Parallel(n_jobs=-1)(delayed(path_stats)(i) for i in range(skeleton.n_paths))\n",
    "    means, maxs, medians = zip(*results)\n",
    "    return means, maxs, medians\n",
    "\n",
    "# Assuming `binary_volume` is the binary image of the vascular structure\n",
    "# Step 1: Skeletonize the volume\n",
    "skeleton_volume = skeletonize_3d(binary_volume)\n",
    "\n",
    "# Step 2: Compute a masked local thickness map for the skeleton\n",
    "masked_thickness_map = calculate_local_thickness(binary_volume, skeleton_volume)\n",
    "\n",
    "# Step 3: Initialize Skeleton with the masked thickness data\n",
    "skeleton = Skeleton(skeleton_volume, skeleton_image=masked_thickness_map)\n",
    "\n",
    "# Step 4: Summarize and add custom columns for width statistics\n",
    "summary = summarize(skeleton)\n",
    "\n",
    "# Calculate mean, max, and median width for each path in parallel\n",
    "mean_width, max_width, median_width = compute_statistics(skeleton)\n",
    "\n",
    "# Add to summary DataFrame\n",
    "summary['mean_width'] = mean_width\n",
    "summary['max_width'] = max_width\n",
    "summary['median_width'] = median_width\n",
    "\n",
    "print(summary)\n"
   ]
  }
 ],
 "metadata": {
  "kernelspec": {
   "display_name": "SCenv",
   "language": "python",
   "name": "python3"
  },
  "language_info": {
   "codemirror_mode": {
    "name": "ipython",
    "version": 3
   },
   "file_extension": ".py",
   "mimetype": "text/x-python",
   "name": "python",
   "nbconvert_exporter": "python",
   "pygments_lexer": "ipython3",
   "version": "3.11.10"
  }
 },
 "nbformat": 4,
 "nbformat_minor": 2
}
