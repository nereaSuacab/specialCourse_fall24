{
 "cells": [
  {
   "cell_type": "code",
   "execution_count": 1,
   "metadata": {},
   "outputs": [
    {
     "name": "stdout",
     "output_type": "stream",
     "text": [
      "CuPy version: 13.3.0\n",
      "CUDA runtime version: 12060\n",
      "Size of binary volume: 2666222244 bytes\n",
      "Size of skeleton volume: 2666222244 bytes\n"
     ]
    },
    {
     "ename": "CUDARuntimeError",
     "evalue": "cudaErrorInsufficientDriver: CUDA driver version is insufficient for CUDA runtime version",
     "output_type": "error",
     "traceback": [
      "\u001b[0;31m---------------------------------------------------------------------------\u001b[0m",
      "\u001b[0;31mCUDARuntimeError\u001b[0m                          Traceback (most recent call last)",
      "Cell \u001b[0;32mIn[1], line 19\u001b[0m\n\u001b[1;32m     16\u001b[0m \u001b[38;5;28mprint\u001b[39m(\u001b[38;5;124mf\u001b[39m\u001b[38;5;124m'\u001b[39m\u001b[38;5;124mSize of skeleton volume: \u001b[39m\u001b[38;5;132;01m{\u001b[39;00msys\u001b[38;5;241m.\u001b[39mgetsizeof(skeleton_volume)\u001b[38;5;132;01m}\u001b[39;00m\u001b[38;5;124m bytes\u001b[39m\u001b[38;5;124m'\u001b[39m)\n\u001b[1;32m     18\u001b[0m \u001b[38;5;66;03m# Transfer binary and skeleton volumes to GPU\u001b[39;00m\n\u001b[0;32m---> 19\u001b[0m binary_volume_gpu \u001b[38;5;241m=\u001b[39m \u001b[43mcp\u001b[49m\u001b[38;5;241;43m.\u001b[39;49m\u001b[43masarray\u001b[49m\u001b[43m(\u001b[49m\u001b[43mbinary_volume\u001b[49m\u001b[43m)\u001b[49m\n\u001b[1;32m     20\u001b[0m skeleton_volume_gpu \u001b[38;5;241m=\u001b[39m cp\u001b[38;5;241m.\u001b[39masarray(skeleton_volume)\n\u001b[1;32m     21\u001b[0m \u001b[38;5;28mprint\u001b[39m(\u001b[38;5;124m\"\u001b[39m\u001b[38;5;124mVolumes transfered to gpu\u001b[39m\u001b[38;5;124m\"\u001b[39m)\n",
      "File \u001b[0;32m~/miniconda3/envs/sc_env/lib/python3.11/site-packages/cupy/_creation/from_data.py:88\u001b[0m, in \u001b[0;36masarray\u001b[0;34m(a, dtype, order, blocking)\u001b[0m\n\u001b[1;32m     56\u001b[0m \u001b[38;5;28;01mdef\u001b[39;00m \u001b[38;5;21masarray\u001b[39m(a, dtype\u001b[38;5;241m=\u001b[39m\u001b[38;5;28;01mNone\u001b[39;00m, order\u001b[38;5;241m=\u001b[39m\u001b[38;5;28;01mNone\u001b[39;00m, \u001b[38;5;241m*\u001b[39m, blocking\u001b[38;5;241m=\u001b[39m\u001b[38;5;28;01mFalse\u001b[39;00m):\n\u001b[1;32m     57\u001b[0m \u001b[38;5;250m    \u001b[39m\u001b[38;5;124;03m\"\"\"Converts an object to array.\u001b[39;00m\n\u001b[1;32m     58\u001b[0m \n\u001b[1;32m     59\u001b[0m \u001b[38;5;124;03m    This is equivalent to ``array(a, dtype, copy=False, order=order)``.\u001b[39;00m\n\u001b[0;32m   (...)\u001b[0m\n\u001b[1;32m     86\u001b[0m \n\u001b[1;32m     87\u001b[0m \u001b[38;5;124;03m    \"\"\"\u001b[39;00m\n\u001b[0;32m---> 88\u001b[0m     \u001b[38;5;28;01mreturn\u001b[39;00m \u001b[43m_core\u001b[49m\u001b[38;5;241;43m.\u001b[39;49m\u001b[43marray\u001b[49m\u001b[43m(\u001b[49m\u001b[43ma\u001b[49m\u001b[43m,\u001b[49m\u001b[43m \u001b[49m\u001b[43mdtype\u001b[49m\u001b[43m,\u001b[49m\u001b[43m \u001b[49m\u001b[38;5;28;43;01mFalse\u001b[39;49;00m\u001b[43m,\u001b[49m\u001b[43m \u001b[49m\u001b[43morder\u001b[49m\u001b[43m,\u001b[49m\u001b[43m \u001b[49m\u001b[43mblocking\u001b[49m\u001b[38;5;241;43m=\u001b[39;49m\u001b[43mblocking\u001b[49m\u001b[43m)\u001b[49m\n",
      "File \u001b[0;32mcupy/_core/core.pyx:2408\u001b[0m, in \u001b[0;36mcupy._core.core.array\u001b[0;34m()\u001b[0m\n",
      "File \u001b[0;32mcupy/_core/core.pyx:2435\u001b[0m, in \u001b[0;36mcupy._core.core.array\u001b[0;34m()\u001b[0m\n",
      "File \u001b[0;32mcupy/_core/core.pyx:2578\u001b[0m, in \u001b[0;36mcupy._core.core._array_default\u001b[0;34m()\u001b[0m\n",
      "File \u001b[0;32mcupy/_core/core.pyx:137\u001b[0m, in \u001b[0;36mcupy._core.core.ndarray.__new__\u001b[0;34m()\u001b[0m\n",
      "File \u001b[0;32mcupy/_core/core.pyx:225\u001b[0m, in \u001b[0;36mcupy._core.core._ndarray_base._init\u001b[0;34m()\u001b[0m\n",
      "File \u001b[0;32mcupy/cuda/memory.pyx:738\u001b[0m, in \u001b[0;36mcupy.cuda.memory.alloc\u001b[0;34m()\u001b[0m\n",
      "File \u001b[0;32mcupy/cuda/memory.pyx:1424\u001b[0m, in \u001b[0;36mcupy.cuda.memory.MemoryPool.malloc\u001b[0;34m()\u001b[0m\n",
      "File \u001b[0;32mcupy/cuda/memory.pyx:1444\u001b[0m, in \u001b[0;36mcupy.cuda.memory.MemoryPool.malloc\u001b[0;34m()\u001b[0m\n",
      "File \u001b[0;32mcupy/cuda/device.pyx:40\u001b[0m, in \u001b[0;36mcupy.cuda.device.get_device_id\u001b[0;34m()\u001b[0m\n",
      "File \u001b[0;32mcupy_backends/cuda/api/runtime.pyx:202\u001b[0m, in \u001b[0;36mcupy_backends.cuda.api.runtime.getDevice\u001b[0;34m()\u001b[0m\n",
      "File \u001b[0;32mcupy_backends/cuda/api/runtime.pyx:146\u001b[0m, in \u001b[0;36mcupy_backends.cuda.api.runtime.check_status\u001b[0;34m()\u001b[0m\n",
      "\u001b[0;31mCUDARuntimeError\u001b[0m: cudaErrorInsufficientDriver: CUDA driver version is insufficient for CUDA runtime version"
     ]
    }
   ],
   "source": [
    "import numpy as np\n",
    "import cupy as cp\n",
    "print(\"CuPy version:\", cp.__version__)\n",
    "print(\"CUDA runtime version:\", cp.cuda.runtime.runtimeGetVersion())\n",
    "import tifffile as tiff\n",
    "from scipy.ndimage import distance_transform_edt\n",
    "from skan import Skeleton\n",
    "from joblib import Parallel, delayed\n",
    "import sys\n",
    "\n",
    "# Load binary and skeleton volumes\n",
    "binary_volume = tiff.imread(\"outputs/output_volume.tif\")\n",
    "skeleton_volume = tiff.imread(\"outputs/output_skeleton_volume.tif\")\n",
    "\n",
    "print(f'Size of binary volume: {sys.getsizeof(binary_volume)} bytes')\n",
    "print(f'Size of skeleton volume: {sys.getsizeof(skeleton_volume)} bytes')\n",
    "\n",
    "# Transfer binary and skeleton volumes to GPU\n",
    "binary_volume_gpu = cp.asarray(binary_volume)\n",
    "skeleton_volume_gpu = cp.asarray(skeleton_volume)\n",
    "print(\"Volumes transfered to gpu\")\n",
    "\n",
    "def compute_statistics(skeleton):\n",
    "    \"\"\"\n",
    "    Computes mean, max, and median widths for each path in parallel.\n",
    "    \"\"\"\n",
    "    def path_stats(path_id):\n",
    "        # Retrieve thickness (width) values for this path\n",
    "        widths = skeleton.path_with_data(path_id)[1]\n",
    "        return np.mean(widths), np.max(widths), np.median(widths)\n",
    "    \n",
    "    # Use parallel processing to calculate statistics for each path\n",
    "    results = Parallel(n_jobs=-1)(delayed(path_stats)(i) for i in range(skeleton.n_paths))\n",
    "    means, maxs, medians = zip(*results)\n",
    "    return means, maxs, medians\n",
    "\n",
    "def calculate_local_thickness_gpu(binary_volume_gpu, skeleton_volume_gpu, max_distance=10):\n",
    "    \"\"\"\n",
    "    Calculate a masked distance map near the skeleton using GPU.\n",
    "    \"\"\"\n",
    "    # Calculate distance transform of the binary volume on GPU\n",
    "    masked_distance_map_gpu = cp.ndimage.distance_transform_edt(binary_volume_gpu)\n",
    "    \n",
    "    # Mask distances above max_distance\n",
    "    masked_distance_map_gpu[masked_distance_map_gpu > max_distance] = 0\n",
    "    print(f'Size of masked distance map (on GPU): {masked_distance_map_gpu.nbytes} bytes')\n",
    "    \n",
    "    # Apply the skeleton mask\n",
    "    return masked_distance_map_gpu * skeleton_volume_gpu\n",
    "\n",
    "# Calculate the masked local thickness map on the GPU\n",
    "masked_thickness_map_gpu = calculate_local_thickness_gpu(binary_volume_gpu, skeleton_volume_gpu)\n",
    "print(\"Masked local thickness calculated on GPU\")\n",
    "\n",
    "# Convert back to CPU (NumPy array) if further processing is needed on CPU\n",
    "masked_thickness_map = cp.asnumpy(masked_thickness_map_gpu)\n",
    "print(\"Converted to CPU...\")\n",
    "\n",
    "# Analyze skeleton data using skan (assuming skan needs CPU-based processing)\n",
    "skeleton = Skeleton(cp.asnumpy(skeleton_volume_gpu))\n",
    "means, maxs, medians = compute_statistics(skeleton)\n",
    "\n",
    "print(\"Statistics computed for each path in the skeleton.\")\n",
    "print(\"Mean thicknesses:\", means)\n",
    "print(\"Max thicknesses:\", maxs)\n",
    "print(\"Median thicknesses:\", medians)\n"
   ]
  }
 ],
 "metadata": {
  "kernelspec": {
   "display_name": "sc_env",
   "language": "python",
   "name": "python3"
  },
  "language_info": {
   "codemirror_mode": {
    "name": "ipython",
    "version": 3
   },
   "file_extension": ".py",
   "mimetype": "text/x-python",
   "name": "python",
   "nbconvert_exporter": "python",
   "pygments_lexer": "ipython3",
   "version": "3.11.10"
  }
 },
 "nbformat": 4,
 "nbformat_minor": 2
}
