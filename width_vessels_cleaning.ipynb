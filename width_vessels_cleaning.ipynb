{
 "cells": [
  {
   "cell_type": "code",
   "execution_count": null,
   "metadata": {},
   "outputs": [],
   "source": [
    "import numpy as np\n",
    "from scipy.ndimage import distance_transform_edt\n",
    "from skimage.morphology import skeletonize\n",
    "from skan import Skeleton, summarize\n",
    "import skan.csr\n",
    "import tifffile as tiff\n",
    "\n",
    "# Assuming `binary_volume` is the binary image of the vascular structure\n",
    "binary_volume = tiff.imread('outputs/output_skeleton_volume.tif')\n",
    "\n",
    "# Step 1: Create the distance map\n",
    "distance_map = distance_transform_edt(binary_volume)\n",
    "\n",
    "# Step 2: Skeletonize the volume\n",
    "skeleton_volume = skeletonize(binary_volume)\n",
    "\n",
    "# Step 3: Multiply the distance map by the skeleton to get the width at each skeleton point\n",
    "skeleton_widths = distance_map * skeleton_volume\n",
    "\n",
    "# Step 4: Create the skeleton object in skan using the width data\n",
    "skeleton = Skeleton(skeleton_volume, skeleton_image=skeleton_widths)\n",
    "\n",
    "# Step 5: Calculate mean, max, and median widths for each path\n",
    "# Summarize provides the essential metrics by default\n",
    "summary = summarize(skeleton)\n",
    "\n",
    "# Add columns for mean, max, and median widths\n",
    "\n",
    "# Mean width per path\n",
    "summary['mean_width'] = [np.mean(skeleton.path_with_data(i)[1]) for i in range(skeleton.n_paths)]\n",
    "\n",
    "# Max width per path using reduceat\n",
    "summary['max_width'] = [np.maximum.reduceat(skeleton.path_with_data(i)[1], range(len(skeleton.path_with_data(i)[1]))) for i in range(skeleton.n_paths)]\n",
    "\n",
    "# Median width per path\n",
    "summary['median_width'] = [np.median(skeleton.path_with_data(i)[1]) for i in range(skeleton.n_paths)]\n",
    "\n",
    "# `summary` now includes columns for mean, max, and median width for each branch in the skeleton\n",
    "print(summary)\n"
   ]
  }
 ],
 "metadata": {
  "kernelspec": {
   "display_name": "SCenv",
   "language": "python",
   "name": "python3"
  },
  "language_info": {
   "name": "python",
   "version": "3.11.10"
  }
 },
 "nbformat": 4,
 "nbformat_minor": 2
}
