{
 "cells": [
  {
   "cell_type": "code",
   "execution_count": 1,
   "metadata": {},
   "outputs": [
    {
     "name": "stdout",
     "output_type": "stream",
     "text": [
      "CuPy version: 13.3.0\n",
      "CUDA runtime version: 12060\n",
      "Size of binary volume: 2666222244 bytes\n",
      "Size of skeleton volume: 2666222244 bytes\n",
      "Volumes transfered to gpu\n"
     ]
    },
    {
     "ename": "AttributeError",
     "evalue": "module 'cupy' has no attribute 'ndimage'",
     "output_type": "error",
     "traceback": [
      "\u001b[0;31m---------------------------------------------------------------------------\u001b[0m",
      "\u001b[0;31mAttributeError\u001b[0m                            Traceback (most recent call last)",
      "Cell \u001b[0;32mIn[1], line 52\u001b[0m\n\u001b[1;32m     49\u001b[0m     \u001b[38;5;28;01mreturn\u001b[39;00m masked_distance_map_gpu \u001b[38;5;241m*\u001b[39m skeleton_volume_gpu\n\u001b[1;32m     51\u001b[0m \u001b[38;5;66;03m# Calculate the masked local thickness map on the GPU\u001b[39;00m\n\u001b[0;32m---> 52\u001b[0m masked_thickness_map_gpu \u001b[38;5;241m=\u001b[39m calculate_local_thickness_gpu(binary_volume_gpu, skeleton_volume_gpu)\n\u001b[1;32m     53\u001b[0m \u001b[38;5;28mprint\u001b[39m(\u001b[38;5;124m\"\u001b[39m\u001b[38;5;124mMasked local thickness calculated on GPU\u001b[39m\u001b[38;5;124m\"\u001b[39m)\n\u001b[1;32m     55\u001b[0m \u001b[38;5;66;03m# Convert back to CPU (NumPy array) if further processing is needed on CPU\u001b[39;00m\n",
      "Cell \u001b[0;32mIn[1], line 42\u001b[0m, in \u001b[0;36mcalculate_local_thickness_gpu\u001b[0;34m(binary_volume_gpu, skeleton_volume_gpu, max_distance)\u001b[0m\n\u001b[1;32m     38\u001b[0m \u001b[38;5;250m\u001b[39m\u001b[38;5;124;03m\"\"\"\u001b[39;00m\n\u001b[1;32m     39\u001b[0m \u001b[38;5;124;03mCalculate a masked distance map near the skeleton using GPU.\u001b[39;00m\n\u001b[1;32m     40\u001b[0m \u001b[38;5;124;03m\"\"\"\u001b[39;00m\n\u001b[1;32m     41\u001b[0m \u001b[38;5;66;03m# Calculate distance transform of the binary volume on GPU\u001b[39;00m\n\u001b[0;32m---> 42\u001b[0m masked_distance_map_gpu \u001b[38;5;241m=\u001b[39m cp\u001b[38;5;241m.\u001b[39mndimage\u001b[38;5;241m.\u001b[39mdistance_transform_edt(binary_volume_gpu)\n\u001b[1;32m     44\u001b[0m \u001b[38;5;66;03m# Mask distances above max_distance\u001b[39;00m\n\u001b[1;32m     45\u001b[0m masked_distance_map_gpu[masked_distance_map_gpu \u001b[38;5;241m>\u001b[39m max_distance] \u001b[38;5;241m=\u001b[39m \u001b[38;5;241m0\u001b[39m\n",
      "File \u001b[0;32m~/miniconda3/envs/sc_env/lib/python3.11/site-packages/cupy/__init__.py:1087\u001b[0m, in \u001b[0;36m__getattr__\u001b[0;34m(name)\u001b[0m\n\u001b[1;32m   1084\u001b[0m \u001b[38;5;28;01mif\u001b[39;00m name \u001b[38;5;129;01min\u001b[39;00m _deprecated_apis:\n\u001b[1;32m   1085\u001b[0m     \u001b[38;5;28;01mreturn\u001b[39;00m \u001b[38;5;28mgetattr\u001b[39m(_numpy, name)\n\u001b[0;32m-> 1087\u001b[0m \u001b[38;5;28;01mraise\u001b[39;00m \u001b[38;5;167;01mAttributeError\u001b[39;00m(\u001b[38;5;124mf\u001b[39m\u001b[38;5;124m\"\u001b[39m\u001b[38;5;124mmodule \u001b[39m\u001b[38;5;124m'\u001b[39m\u001b[38;5;124mcupy\u001b[39m\u001b[38;5;124m'\u001b[39m\u001b[38;5;124m has no attribute \u001b[39m\u001b[38;5;132;01m{\u001b[39;00mname\u001b[38;5;132;01m!r}\u001b[39;00m\u001b[38;5;124m\"\u001b[39m)\n",
      "\u001b[0;31mAttributeError\u001b[0m: module 'cupy' has no attribute 'ndimage'"
     ]
    }
   ],
   "source": [
    "import numpy as np\n",
    "import cupy as cp\n",
    "print(\"CuPy version:\", cp.__version__)\n",
    "print(\"CUDA runtime version:\", cp.cuda.runtime.runtimeGetVersion())\n",
    "import tifffile as tiff\n",
    "from scipy.ndimage import distance_transform_edt\n",
    "from skan import Skeleton\n",
    "from joblib import Parallel, delayed\n",
    "import sys\n",
    "\n",
    "# Load binary and skeleton volumes\n",
    "binary_volume = tiff.imread(\"outputs/output_volume.tif\")\n",
    "skeleton_volume = tiff.imread(\"outputs/output_skeleton_volume.tif\")\n",
    "\n",
    "print(f'Size of binary volume: {sys.getsizeof(binary_volume)} bytes')\n",
    "print(f'Size of skeleton volume: {sys.getsizeof(skeleton_volume)} bytes')\n",
    "\n",
    "# Transfer binary and skeleton volumes to GPU\n",
    "binary_volume_gpu = cp.asarray(binary_volume)\n",
    "skeleton_volume_gpu = cp.asarray(skeleton_volume)\n",
    "print(\"Volumes transfered to gpu\")\n",
    "\n",
    "def compute_statistics(skeleton):\n",
    "    \"\"\"\n",
    "    Computes mean, max, and median widths for each path in parallel.\n",
    "    \"\"\"\n",
    "    def path_stats(path_id):\n",
    "        # Retrieve thickness (width) values for this path\n",
    "        widths = skeleton.path_with_data(path_id)[1]\n",
    "        return np.mean(widths), np.max(widths), np.median(widths)\n",
    "    \n",
    "    # Use parallel processing to calculate statistics for each path\n",
    "    results = Parallel(n_jobs=-1)(delayed(path_stats)(i) for i in range(skeleton.n_paths))\n",
    "    means, maxs, medians = zip(*results)\n",
    "    return means, maxs, medians\n",
    "\n",
    "def calculate_local_thickness_gpu(binary_volume_gpu, skeleton_volume_gpu, max_distance=10):\n",
    "    \"\"\"\n",
    "    Calculate a masked distance map near the skeleton using GPU.\n",
    "    \"\"\"\n",
    "    # Calculate distance transform of the binary volume on GPU\n",
    "    masked_distance_map_gpu = cp.ndimage.distance_transform_edt(binary_volume_gpu)\n",
    "    \n",
    "    # Mask distances above max_distance\n",
    "    masked_distance_map_gpu[masked_distance_map_gpu > max_distance] = 0\n",
    "    print(f'Size of masked distance map (on GPU): {masked_distance_map_gpu.nbytes} bytes')\n",
    "    \n",
    "    # Apply the skeleton mask\n",
    "    return masked_distance_map_gpu * skeleton_volume_gpu\n",
    "\n",
    "# Calculate the masked local thickness map on the GPU\n",
    "masked_thickness_map_gpu = calculate_local_thickness_gpu(binary_volume_gpu, skeleton_volume_gpu)\n",
    "print(\"Masked local thickness calculated on GPU\")\n",
    "\n",
    "# Convert back to CPU (NumPy array) if further processing is needed on CPU\n",
    "masked_thickness_map = cp.asnumpy(masked_thickness_map_gpu)\n",
    "print(\"Converted to CPU...\")\n",
    "\n",
    "# Analyze skeleton data using skan (assuming skan needs CPU-based processing)\n",
    "skeleton = Skeleton(cp.asnumpy(skeleton_volume_gpu))\n",
    "means, maxs, medians = compute_statistics(skeleton)\n",
    "\n",
    "print(\"Statistics computed for each path in the skeleton.\")\n",
    "print(\"Mean thicknesses:\", means)\n",
    "print(\"Max thicknesses:\", maxs)\n",
    "print(\"Median thicknesses:\", medians)\n"
   ]
  }
 ],
 "metadata": {
  "kernelspec": {
   "display_name": "Python 3 (ipykernel)",
   "language": "python",
   "name": "python3"
  },
  "language_info": {
   "codemirror_mode": {
    "name": "ipython",
    "version": 3
   },
   "file_extension": ".py",
   "mimetype": "text/x-python",
   "name": "python",
   "nbconvert_exporter": "python",
   "pygments_lexer": "ipython3",
   "version": "3.11.10"
  }
 },
 "nbformat": 4,
 "nbformat_minor": 2
}
