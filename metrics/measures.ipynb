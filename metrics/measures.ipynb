{
 "cells": [
  {
   "cell_type": "code",
   "execution_count": 1,
   "metadata": {},
   "outputs": [
    {
     "name": "stdout",
     "output_type": "stream",
     "text": [
      "Total length of the skeleton: 71696.0 pixels\n",
      "Branch lengths: [38012.0, 807.0, 92.0, 94.0, 5137.0, 2374.0, 51.0, 136.0, 220.0, 3492.0, 267.0, 4620.0, 9098.0, 919.0, 372.0, 376.0, 104.0, 431.0, 491.0, 351.0, 1430.0, 1035.0, 272.0, 530.0, 190.0, 494.0, 301.0]\n"
     ]
    }
   ],
   "source": [
    "import numpy as np\n",
    "import matplotlib.pyplot as plt\n",
    "from skimage import io, morphology, measure\n",
    "\n",
    "# Load the skeleton (assuming the skeleton is already binary)\n",
    "skeleton = np.load('skeleton.npy')  # Replace with the path to your numpy array\n",
    "\n",
    "\n",
    "# Calculate total length\n",
    "total_length = skeleton.sum()\n",
    "print(f\"Total length of the skeleton: {total_length} pixels\")\n",
    "\n",
    "# Identify branch points, endpoints, etc. using skimage\n",
    "skeleton_labels = measure.label(skeleton)\n",
    "\n",
    "# Measure individual branches\n",
    "regions = measure.regionprops(skeleton_labels)\n",
    "branch_lengths = [region.area for region in regions]\n",
    "print(f\"Branch lengths: {branch_lengths}\")\n"
   ]
  },
  {
   "cell_type": "code",
   "execution_count": 3,
   "metadata": {},
   "outputs": [
    {
     "name": "stdout",
     "output_type": "stream",
     "text": [
      "Number of branches: 27\n",
      "Average length of branches: 2655.4074074074074 pixels\n"
     ]
    }
   ],
   "source": [
    "# Count the number of branches\n",
    "num_branches = len(branch_lengths)\n",
    "print(f\"Number of branches: {num_branches}\")\n",
    "\n",
    "# Calculate the average length of branches\n",
    "average_length = np.mean(branch_lengths) if branch_lengths else 0\n",
    "print(f\"Average length of branches: {average_length} pixels\")"
   ]
  },
  {
   "cell_type": "code",
   "execution_count": 4,
   "metadata": {},
   "outputs": [
    {
     "data": {
      "image/png": "[encoded data removed]",
      "text/plain": [
       "<Figure size 1000x600 with 1 Axes>"
      ]
     },
     "metadata": {},
     "output_type": "display_data"
    }
   ],
   "source": [
    "plt.figure(figsize=(10, 6))\n",
    "plt.hist(branch_lengths, bins=30, edgecolor='black')\n",
    "plt.title('Distribution of Branch Lengths')\n",
    "plt.xlabel('Branch Length')\n",
    "plt.ylabel('Frequency')\n",
    "plt.grid(True)\n",
    "plt.show()"
   ]
  },
  {
   "cell_type": "code",
   "execution_count": null,
   "metadata": {},
   "outputs": [],
   "source": []
  },
  {
   "cell_type": "code",
   "execution_count": 2,
   "metadata": {},
   "outputs": [
    {
     "name": "stdout",
     "output_type": "stream",
     "text": [
      "Euler Characteristic for 3D skeleton: 242\n"
     ]
    }
   ],
   "source": [
    "import numpy as np\n",
    "from skimage.measure import euler_number\n",
    "\n",
    "euler_num_3d = euler_number(skeleton, connectivity=3)\n",
    "print(f\"Euler Characteristic for 3D skeleton: {euler_num_3d}\")"
   ]
  },
  {
   "cell_type": "code",
   "execution_count": 5,
   "metadata": {},
   "outputs": [
    {
     "ename": "AssertionError",
     "evalue": "Only 2D fractal dimension is supported for this code",
     "output_type": "error",
     "traceback": [
      "\u001b[1;31m---------------------------------------------------------------------------\u001b[0m",
      "\u001b[1;31mAssertionError\u001b[0m                            Traceback (most recent call last)",
      "Cell \u001b[1;32mIn[5], line 32\u001b[0m\n\u001b[0;32m     28\u001b[0m     \u001b[38;5;28;01mreturn\u001b[39;00m \u001b[38;5;241m-\u001b[39mcoeffs[\u001b[38;5;241m0\u001b[39m]\n\u001b[0;32m     31\u001b[0m box_sizes \u001b[38;5;241m=\u001b[39m np\u001b[38;5;241m.\u001b[39marray([\u001b[38;5;241m2\u001b[39m, \u001b[38;5;241m4\u001b[39m])  \u001b[38;5;66;03m# Define box sizes, you can use more sizes\u001b[39;00m\n\u001b[1;32m---> 32\u001b[0m fractal_dimension \u001b[38;5;241m=\u001b[39m \u001b[43mbox_counting_fractal_dimension\u001b[49m\u001b[43m(\u001b[49m\u001b[43mskeleton\u001b[49m\u001b[43m,\u001b[49m\u001b[43m \u001b[49m\u001b[43mbox_sizes\u001b[49m\u001b[43m)\u001b[49m\n\u001b[0;32m     33\u001b[0m \u001b[38;5;28mprint\u001b[39m(\u001b[38;5;124mf\u001b[39m\u001b[38;5;124m\"\u001b[39m\u001b[38;5;124mFractal Dimension: \u001b[39m\u001b[38;5;132;01m{\u001b[39;00mfractal_dimension\u001b[38;5;132;01m}\u001b[39;00m\u001b[38;5;124m\"\u001b[39m)\n",
      "Cell \u001b[1;32mIn[5], line 17\u001b[0m, in \u001b[0;36mbox_counting_fractal_dimension\u001b[1;34m(Z, box_sizes)\u001b[0m\n\u001b[0;32m     15\u001b[0m \u001b[38;5;66;03m# Normalize the grid if it's not square (for box-counting)\u001b[39;00m\n\u001b[0;32m     16\u001b[0m Z \u001b[38;5;241m=\u001b[39m Z\u001b[38;5;241m.\u001b[39mastype(\u001b[38;5;28mbool\u001b[39m)\n\u001b[1;32m---> 17\u001b[0m \u001b[38;5;28;01massert\u001b[39;00m \u001b[38;5;28mlen\u001b[39m(Z\u001b[38;5;241m.\u001b[39mshape) \u001b[38;5;241m==\u001b[39m \u001b[38;5;241m2\u001b[39m, \u001b[38;5;124m\"\u001b[39m\u001b[38;5;124mOnly 2D fractal dimension is supported for this code\u001b[39m\u001b[38;5;124m\"\u001b[39m\n\u001b[0;32m     19\u001b[0m \u001b[38;5;66;03m# Get counts for each box size\u001b[39;00m\n\u001b[0;32m     20\u001b[0m counts \u001b[38;5;241m=\u001b[39m []\n",
      "\u001b[1;31mAssertionError\u001b[0m: Only 2D fractal dimension is supported for this code"
     ]
    }
   ],
   "source": [
    "import numpy as np\n",
    "\n",
    "def box_counting_fractal_dimension(Z, box_sizes):\n",
    "    # Z is the binary skeleton (2D or 3D) where the centerline is marked as 1\n",
    "    # box_sizes are the different sizes of boxes to cover the structure\n",
    "    def boxcount(Z, size):\n",
    "        # Count the number of non-empty boxes of size \"size\"\n",
    "        S = np.add.reduceat(\n",
    "            np.add.reduceat(Z, np.arange(0, Z.shape[0], size), axis=0),\n",
    "            np.arange(0, Z.shape[1], size), axis=1)\n",
    "\n",
    "        # Count how many boxes have non-zero points (i.e., are filled)\n",
    "        return len(np.where(S > 0)[0])\n",
    "\n",
    "    # Normalize the grid if it's not square (for box-counting)\n",
    "    Z = Z.astype(bool)\n",
    "    assert len(Z.shape) == 2, \"Only 2D fractal dimension is supported for this code\"\n",
    "    \n",
    "    # Get counts for each box size\n",
    "    counts = []\n",
    "    for size in box_sizes:\n",
    "        counts.append(boxcount(Z, size))\n",
    "    \n",
    "    # Fit a line to log(counts) vs log(1/box_size)\n",
    "    coeffs = np.polyfit(np.log(box_sizes), np.log(counts), 1)\n",
    "    \n",
    "    # Fractal dimension is the slope of the line\n",
    "    return -coeffs[0]\n",
    "\n",
    "\n",
    "box_sizes = np.array([2, 4])  # Define box sizes, you can use more sizes\n",
    "fractal_dimension = box_counting_fractal_dimension(skeleton, box_sizes)\n",
    "print(f\"Fractal Dimension: {fractal_dimension}\")\n"
   ]
  }
 ],
 "metadata": {
  "kernelspec": {
   "display_name": "SCenv",
   "language": "python",
   "name": "python3"
  },
  "language_info": {
   "codemirror_mode": {
    "name": "ipython",
    "version": 3
   },
   "file_extension": ".py",
   "mimetype": "text/x-python",
   "name": "python",
   "nbconvert_exporter": "python",
   "pygments_lexer": "ipython3",
   "version": "3.11.10"
  }
 },
 "nbformat": 4,
 "nbformat_minor": 2
}
