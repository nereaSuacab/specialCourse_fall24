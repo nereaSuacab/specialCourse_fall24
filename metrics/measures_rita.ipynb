{
  "cells": [
    {
      "cell_type": "markdown",
      "metadata": {
        "id": "iQK3pgwLV-5-"
      },
      "source": [
        "## Coses que no funcionen"
      ]
    },
    {
      "cell_type": "code",
      "execution_count": 1,
      "metadata": {
        "colab": {
          "base_uri": "https://localhost:8080/"
        },
        "id": "SeWX2xm5V32H",
        "outputId": "962747e2-f542-46f7-acee-57c9aaa337b7"
      },
      "outputs": [
        {
          "output_type": "stream",
          "name": "stdout",
          "text": [
            "Mounted at /content/drive/\n"
          ]
        }
      ],
      "source": [
        "from google.colab import drive\n",
        "drive.mount('/content/drive/')"
      ]
    },
    {
      "cell_type": "markdown",
      "source": [
        "## Branch length distribution"
      ],
      "metadata": {
        "id": "J3BWxWxHYunl"
      }
    },
    {
      "cell_type": "code",
      "source": [
        "import numpy as np\n",
        "import matplotlib.pyplot as plt\n",
        "\n",
        "# Load your skeleton data (assuming it's in a NumPy array format)\n",
        "skeleton_data = np.load('/content/drive/MyDrive/Colab_Notebooks/Special Course/skeleton.npy')\n",
        "\n",
        "# Function to compute branch lengths\n",
        "def compute_branch_lengths(skeleton):\n",
        "    lengths = []\n",
        "    for branch in skeleton:\n",
        "        # Assuming each branch is represented as a list of points (x, y, z)\n",
        "        for i in range(len(branch) - 1):\n",
        "            point1 = branch[i]\n",
        "            point2 = branch[i + 1]\n",
        "            length = np.linalg.norm(point2 - point1)  # Euclidean distance\n",
        "            lengths.append(length)\n",
        "    return lengths\n",
        "\n",
        "# Compute branch lengths\n",
        "branch_lengths = compute_branch_lengths(skeleton_data)\n",
        "\n",
        "# Plotting the distribution of branch lengths\n",
        "plt.hist(branch_lengths, bins=10, alpha=0.7, color='blue')\n",
        "plt.title('Branch Length Distribution')\n",
        "plt.xlabel('Length')\n",
        "plt.ylabel('Frequency')\n",
        "plt.grid(True)\n",
        "plt.show()"
      ],
      "metadata": {
        "colab": {
          "base_uri": "https://localhost:8080/",
          "height": 472
        },
        "id": "9fDGkXBCYt3b",
        "outputId": "e81d5e62-970c-4c50-80f4-fcca6c136110"
      },
      "execution_count": 1,
      "outputs": [
        {
          "output_type": "display_data",
          "data": {
            "text/plain": [
              "<Figure size 640x480 with 1 Axes>"
            ],
            "image/png": "[encoded data removed]"
          },
          "metadata": {}
        }
      ]
    },
    {
      "cell_type": "markdown",
      "source": [
        "## AVG BRANCH I NUMBER OF BRANCHES"
      ],
      "metadata": {
        "id": "BlSZzTsX2Sww"
      }
    },
    {
      "cell_type": "code",
      "source": [
        "import skan"
      ],
      "metadata": {
        "id": "qlwGsVNW2a5B"
      },
      "execution_count": 4,
      "outputs": []
    },
    {
      "cell_type": "code",
      "source": [
        "import numpy as np\n",
        "from skan import Skeleton, summarize\n",
        "\n",
        "# Load skeleton data from a .npy file\n",
        "def load_skeleton(file_path):\n",
        "    skeleton = np.load(file_path)\n",
        "    print(\"Skeleton shape:\", skeleton.shape)  # Check shape\n",
        "    return skeleton\n",
        "\n",
        "# Binarize the skeleton if necessary\n",
        "def binarize_skeleton(skeleton, threshold=1):\n",
        "    return (skeleton >= threshold).astype(np.uint8)\n",
        "\n",
        "# Compute number of branches and average branch length\n",
        "def compute_branch_metrics(skeleton):\n",
        "    # Ensure the skeleton is binary\n",
        "    binary_skeleton = binarize_skeleton(skeleton)\n",
        "\n",
        "    # Create a Skeleton object\n",
        "    skel = Skeleton(binary_skeleton)\n",
        "\n",
        "    # Summarize branch data\n",
        "    branch_data = summarize(skel)\n",
        "\n",
        "    # Calculate metrics\n",
        "    num_branches = len(branch_data)  # Number of branches\n",
        "    average_branch_length = branch_data['branch-distance'].mean()  # Average length of branches\n",
        "\n",
        "    return num_branches, average_branch_length\n",
        "\n",
        "# Example Usage\n",
        "if __name__ == \"__main__\":\n",
        "    # Load skeleton from .npy file\n",
        "    skeleton_file_path = '/content/drive/MyDrive/Colab_Notebooks/Special Course/skeleton.npy'  # Replace with your file path\n",
        "    skeleton = load_skeleton(skeleton_file_path)\n",
        "\n",
        "    # Compute branch metrics\n",
        "    num_branches, avg_branch_length = compute_branch_metrics(skeleton)\n",
        "\n",
        "    # Print results\n",
        "    print(\"Number of Branches:\", num_branches)\n",
        "\n",
        "    print(\"Average Branch Length:\", avg_branch_length)"
      ],
      "metadata": {
        "colab": {
          "base_uri": "https://localhost:8080/"
        },
        "id": "RvyM-SXX2R_F",
        "outputId": "89b4ee28-1e50-46d4-db47-7d56d521a09d"
      },
      "execution_count": 7,
      "outputs": [
        {
          "output_type": "stream",
          "name": "stdout",
          "text": [
            "Skeleton shape: (698, 964, 964)\n",
            "Number of Branches: 18773\n",
            "Average Branch Length: 4.595382493398158\n"
          ]
        }
      ]
    }
  ],
  "metadata": {
    "kernelspec": {
      "display_name": "Python 3 (ipykernel)",
      "language": "python",
      "name": "python3"
    },
    "language_info": {
      "codemirror_mode": {
        "name": "ipython",
        "version": 3
      },
      "file_extension": ".py",
      "mimetype": "text/x-python",
      "name": "python",
      "nbconvert_exporter": "python",
      "pygments_lexer": "ipython3",
      "version": "3.9.7"
    },
    "colab": {
      "provenance": []
    }
  },
  "nbformat": 4,
  "nbformat_minor": 0
}