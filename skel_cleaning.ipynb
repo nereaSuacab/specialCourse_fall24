{
 "cells": [
  {
   "cell_type": "code",
   "execution_count": 1,
   "metadata": {},
   "outputs": [
    {
     "name": "stdout",
     "output_type": "stream",
     "text": [
      "Number of pixels in the volume: 2666222100\n",
      "Number of pixels set to True: 133044\n",
      "Number of pixels set to False: 2666089056\n"
     ]
    }
   ],
   "source": [
    "#Read tif volume\n",
    "import numpy as np\n",
    "import tifffile as tiff\n",
    "import os\n",
    "import sys\n",
    "import matplotlib.pyplot as plt\n",
    "\n",
    "def read_tif_volume(tif_file):\n",
    "    #Read tif volume\n",
    "    volume = tiff.imread(tif_file)\n",
    "    return volume\n",
    "\n",
    "def write_tif_volume(volume, tif_file):\n",
    "    tiff.imwrite(tif_file, volume)\n",
    "    \n",
    "skeleton = read_tif_volume('outputs/output_skeleton_volume.tif')\n",
    "\n",
    "print(f\"Number of pixels in the volume: {np.size(skeleton)}\")\n",
    "print(f\"Number of pixels set to True: {np.sum(skeleton==True)}\")\n",
    "print(f\"Number of pixels set to False: {np.sum(skeleton == False, dtype=np.int64)}\")\n",
    "\n",
    "sk_copy = skeleton.copy()\n"
   ]
  },
  {
   "cell_type": "code",
   "execution_count": 3,
   "metadata": {},
   "outputs": [
    {
     "name": "stderr",
     "output_type": "stream",
     "text": [
      "/tmp/ipykernel_971658/4215341416.py:8: VisibleDeprecationWarning: separator in column name will change to _ in version 0.13; to silence this warning, use `separator='-'` to maintain current behavior and use `separator='_'` to switch to the new default behavior.\n",
      "  branch_data = summarize(skel)\n"
     ]
    },
    {
     "name": "stdout",
     "output_type": "stream",
     "text": [
      "Number of branch type 0: 937\n",
      "Number of branch type 1: 1812\n",
      "Number of branch type 2: 1640\n",
      "Number of branch type 3: 47\n",
      "Number of branch type 0: 14\n",
      "Number of branch type 1: 1815\n",
      "Number of branch type 2: 1590\n",
      "Number of branch type 3: 4\n"
     ]
    },
    {
     "name": "stderr",
     "output_type": "stream",
     "text": [
      "/tmp/ipykernel_971658/4215341416.py:37: VisibleDeprecationWarning: separator in column name will change to _ in version 0.13; to silence this warning, use `separator='-'` to maintain current behavior and use `separator='_'` to switch to the new default behavior.\n",
      "  branch_data = summarize(skel)\n"
     ]
    }
   ],
   "source": [
    "import numpy as np\n",
    "from skan import Skeleton, summarize\n",
    "\n",
    "# Skeleton volume is already loaded as 'sk_copy'\n",
    "skel = Skeleton(sk_copy)\n",
    "\n",
    "# Summarize the skeleton branch information\n",
    "branch_data = summarize(skel)\n",
    "\n",
    "\n",
    "# Identify branches of different types\n",
    "branch_type_0 = branch_data[branch_data['branch-type'] == 0]\n",
    "branch_type_1 = branch_data[branch_data['branch-type'] == 1]\n",
    "branch_type_2 = branch_data[branch_data['branch-type'] == 2]\n",
    "branch_type_3 = branch_data[branch_data['branch-type'] == 3]\n",
    "\n",
    "# Print branch counts\n",
    "print(f\"Number of branch type 0: {len(branch_type_0)}\")\n",
    "print(f\"Number of branch type 1: {len(branch_type_1)}\")\n",
    "print(f\"Number of branch type 2: {len(branch_type_2)}\")\n",
    "print(f\"Number of branch type 3: {len(branch_type_3)}\")\n",
    "\n",
    "# Let's say we want to delete branches of type 0 and type 1\n",
    "branches_to_delete = branch_type_0.index.tolist() + branch_type_3.index.tolist()\n",
    "\n",
    "# Loop through the branch indices to remove the entire branch\n",
    "for branch_id in branches_to_delete:\n",
    "    # Retrieve all pixel coordinates along the branch\n",
    "    coordinates = skel.path_coordinates(branch_id)\n",
    "    \n",
    "    # Set corresponding pixels in the skeleton copy to False (or 0) to remove the branch\n",
    "    for coord in coordinates:\n",
    "        sk_copy[tuple(np.round(coord).astype(int))] = False  # Ensure coordinates are integers\n",
    "\n",
    "# Count the number of branches of each type after deletion\n",
    "skel = Skeleton(sk_copy)\n",
    "branch_data = summarize(skel)\n",
    "branch_type_0 = branch_data[branch_data['branch-type'] == 0]\n",
    "branch_type_1 = branch_data[branch_data['branch-type'] == 1]\n",
    "branch_type_2 = branch_data[branch_data['branch-type'] == 2]\n",
    "branch_type_3 = branch_data[branch_data['branch-type'] == 3]\n",
    "\n",
    "print(f\"Number of branch type 0: {len(branch_type_0)}\")\n",
    "print(f\"Number of branch type 1: {len(branch_type_1)}\")\n",
    "print(f\"Number of branch type 2: {len(branch_type_2)}\")\n",
    "print(f\"Number of branch type 3: {len(branch_type_3)}\")\n",
    "\n",
    "\n",
    "# Save the modified skeleton to a new file\n",
    "# write_tif_volume(sk_copy, 'outputs/modified_skeleton_volume.tif')\n",
    "\n",
    "# Optional: Visualize or analyze the new skeleton if needed\n"
   ]
  },
  {
   "cell_type": "code",
   "execution_count": 3,
   "metadata": {},
   "outputs": [],
   "source": [
    "write_tif_volume(sk_copy, 'outputs/modified_skeleton_volume.tif')"
   ]
  }
 ],
 "metadata": {
  "kernelspec": {
   "display_name": "Python 3 (ipykernel)",
   "language": "python",
   "name": "python3"
  },
  "language_info": {
   "codemirror_mode": {
    "name": "ipython",
    "version": 3
   },
   "file_extension": ".py",
   "mimetype": "text/x-python",
   "name": "python",
   "nbconvert_exporter": "python",
   "pygments_lexer": "ipython3",
   "version": "3.11.10"
  }
 },
 "nbformat": 4,
 "nbformat_minor": 2
}
